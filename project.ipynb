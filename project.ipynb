{
 "cells": [
  {
   "cell_type": "code",
   "execution_count": 1,
   "metadata": {},
   "outputs": [],
   "source": [
    "import pandas as pd\n",
    "import numpy as np\n",
    "import matplotlib.pyplot as plt\n",
    "import os\n",
    "from shutil import copy\n",
    "import os, stat\n",
    "import skimage\n",
    "import cv2\n",
    "from PIL import Image\n",
    "from skimage import exposure\n",
    "import scipy.misc\n",
    "from skimage import io\n",
    "import pylab as pl\n",
    "import glob\n",
    "import pydicom\n",
    "from PIL import ImageFilter\n",
    "import cv2\n",
    "import numpy as np\n",
    "import scipy\n",
    "from scipy.misc import imread\n",
    "import pickle as pickle\n",
    "import random\n",
    "import os\n",
    "import matplotlib.pyplot as pl\n",
    "import scipy.ndimage as ndi"
   ]
  },
  {
   "cell_type": "code",
   "execution_count": 2,
   "metadata": {},
   "outputs": [],
   "source": [
    "directory=\"F://Overall dataset\"\n",
    "\n",
    "newdir=\"F://newdata\""
   ]
  },
  {
   "cell_type": "code",
   "execution_count": 3,
   "metadata": {},
   "outputs": [],
   "source": [
    "protocols=[1,2,3]"
   ]
  },
  {
   "cell_type": "code",
   "execution_count": 4,
   "metadata": {},
   "outputs": [],
   "source": [
    "def renmame(rename =False):\n",
    "    if (rename ==True):\n",
    "         for person in os.listdir(directory):\n",
    "                for fol in os.listdir(os.path.join(directory,  person)):\n",
    "                    for protocol in os.listdir(os.path.join(directory, person,fol)):\n",
    "                        if (int(protocol[-3]) in  protocols):\n",
    "                            for file in os.listdir(os.path.join(directory, person,fol,protocol)):\n",
    "                                filen=file.replace(person+\" - \",\"\")\n",
    "                                filename=os.path.join(directory,person,fol,protocol,file)\n",
    "                                newfilename=os.path.join(directory,person,fol,protocol,filen)\n",
    "                                os.rename(filename,newfilename)"
   ]
  },
  {
   "cell_type": "code",
   "execution_count": 5,
   "metadata": {},
   "outputs": [],
   "source": [
    "def clean(clean =False):\n",
    "    if(clean ==True):\n",
    "        if(not os.path.exists(newdir)):\n",
    "            os.mkdir(newdir)\n",
    "        for person in os.listdir(directory):\n",
    "            for fol in os.listdir(os.path.join(directory,  person)):\n",
    "                for protocol in os.listdir(os.path.join(directory, person,fol)):\n",
    "                    if (int(protocol[-3]) in  protocols):\n",
    "                        for file in os.listdir(os.path.join(directory, person,fol,protocol)):\n",
    "                            filename=os.path.join(directory,person,fol,protocol,file)\n",
    "                            newfilename=os.path.join(directory,person,fol,protocol,person+\" - \"+file)\n",
    "                            os.rename(filename,newfilename)\n",
    "                            if (not os.path.isdir(os.path.join(newdir,protocol))):\n",
    "                                os.mkdir(os.path.join(newdir,protocol))\n",
    "                            copy(newfilename,os.path.join(newdir,protocol))                     "
   ]
  },
  {
   "cell_type": "code",
   "execution_count": 6,
   "metadata": {},
   "outputs": [],
   "source": [
    "renmame(rename=False)"
   ]
  },
  {
   "cell_type": "code",
   "execution_count": 7,
   "metadata": {},
   "outputs": [
    {
     "name": "stdout",
     "output_type": "stream",
     "text": [
      "Wall time: 0 ns\n"
     ]
    }
   ],
   "source": [
    "%time clean(clean=False)\n"
   ]
  },
  {
   "cell_type": "code",
   "execution_count": 8,
   "metadata": {},
   "outputs": [
    {
     "name": "stdout",
     "output_type": "stream",
     "text": [
      "Wall time: 0 ns\n"
     ]
    }
   ],
   "source": [
    "def condcm2jpg(folder_path, convert =False):\n",
    "    if (convert == True):\n",
    "        PNG = False\n",
    "    # Specify the output jpg/png folder path\n",
    "        jpg_folder_path = folder_path\n",
    "\n",
    "        images_path = os.listdir(folder_path)\n",
    "        for n, image in enumerate(images_path):\n",
    "            imageo=image\n",
    "            ds = pydicom.dcmread(os.path.join(folder_path, image))\n",
    "            pixel_array_numpy = ds.pixel_array\n",
    "            if PNG == False:\n",
    "                image = image.replace('.dcm', '.jpg')\n",
    "            else:\n",
    "                image = image.replace('.dcm', '.png')\n",
    "            cv2.imwrite(os.path.join(jpg_folder_path, image), pixel_array_numpy)\n",
    "            if n % 100 == 0:\n",
    "                print('{} image converted'.format(n))\n",
    "            os.remove(os.path.join(folder_path,imageo))\n",
    "def conver(conv = True):\n",
    "    if(conv):\n",
    "        for fol in os.listdir(newdir):\n",
    "            condcm2jpg(os.path.join(newdir,fol),True)\n",
    "%time conver(conv=False)       "
   ]
  },
  {
   "cell_type": "code",
   "execution_count": 9,
   "metadata": {},
   "outputs": [],
   "source": [
    "def perfectbin(folder):\n",
    "    \"to create a perfect binary mask of the image\"\n",
    "    for images in os.listdir(folder):\n",
    "        filename =os.path.join(folder,images)\n",
    "        image=io.imread(filename)\n",
    "        bit=image\n",
    "        bit[bit<128]=0\n",
    "        bit[bit>128]=1\n",
    "      \n",
    "        plt.imsave(fname=(filename),arr=bit,cmap=\"gray\")"
   ]
  },
  {
   "cell_type": "code",
   "execution_count": 10,
   "metadata": {},
   "outputs": [
    {
     "data": {
      "image/png": "[encoded data removed]",
      "text/plain": [
       "<Figure size 432x288 with 2 Axes>"
      ]
     },
     "metadata": {
      "needs_background": "light"
     },
     "output_type": "display_data"
    }
   ],
   "source": [
    "##Perfect Binary Image\n",
    "fig=plt.figure()\n",
    "plt.subplot(1,2,1)\n",
    "plt.imshow(io.imread(\"F://newdata/1  T2W-FLAIR - 301 binary//binaryBS.050170 - IM-0003-0001-0001.jpg\"),cmap='gray')\n",
    "plt.title(\"Binary Image\")\n",
    "plt.subplot(1,2,2)\n",
    "plt.imshow(io.imread(\"F://newdata//1  T2W-FLAIR - 301 skull stripped/BS.050170 - IM-0003-0001-0001.jpg\"),cmap=\"gray\")\n",
    "plt.title(\"Skull Stripped Image\")\n",
    "plt.tight_layout()\n",
    "plt.show()"
   ]
  },
  {
   "cell_type": "code",
   "execution_count": 11,
   "metadata": {},
   "outputs": [],
   "source": [
    "newdir = \"F://newdata//1  T2W-FLAIR - 301 skull stripped\"\n",
    "binary=\"F://newdata/1  T2W-FLAIR - 301 binary\""
   ]
  },
  {
   "cell_type": "code",
   "execution_count": 12,
   "metadata": {},
   "outputs": [],
   "source": [
    "def noise_filtering(img_location):\n",
    "    im=Image.open(img_location)\n",
    "    im1 = im.filter(ImageFilter.MedianFilter(size=3))\n",
    "    return np.array(im1)\n",
    "# Contrast stretching\n",
    "def con_stretch(img):\n",
    "\n",
    "    p2, p98 = np.percentile(img, (10, 98))\n",
    "    img_rescale = exposure.rescale_intensity(img, in_range=(p2, p98))\n",
    "    return img_rescale\n",
    "\n",
    "# Equalization\n",
    "def img_equ(img):\n",
    "    img_eq = exposure.equalize_hist(img)\n",
    "    return img_eq\n",
    "def change_contrast(img, level):\n",
    "    factor = (259 * (level + 255)) / (255 * (259 - level))\n",
    "    def contrast(c):\n",
    "        return 128 + factor * (c - 128)\n",
    "    return img.point(contrast)\n",
    "def enhance(Image,en=True):\n",
    "    if(en==True):\n",
    "        con=15\n",
    "        Image = Image.filter(ImageFilter.MedianFilter(size=3))#NOISE FILTERING\n",
    "        imq=change_contrast(Image,con)# increase the contrast\n",
    "        #imq=imq.filter(ImageFilter.SHARPEN) #Sharpen the image\n",
    "        imq=imq.filter(ImageFilter.SHARPEN)\n",
    "        imq=change_contrast(imq,con)\n",
    "        imq=np.array(imq)\n",
    "        \n",
    "        #imq=exposure.equalize_hist(imq)\n",
    "        imq=con_stretch(imq)\n",
    "        return imq\n",
    "    else:\n",
    "        return \"stupidity\""
   ]
  },
  {
   "cell_type": "markdown",
   "metadata": {},
   "source": [
    "## Example of image conversion"
   ]
  },
  {
   "cell_type": "code",
   "execution_count": 13,
   "metadata": {},
   "outputs": [
    {
     "name": "stdout",
     "output_type": "stream",
     "text": [
      "(256, 256)\n",
      "(251, 249)\n",
      "(251, 249)\n"
     ]
    },
    {
     "data": {
      "image/png": "[encoded data removed]",
      "text/plain": [
       "<Figure size 432x288 with 3 Axes>"
      ]
     },
     "metadata": {},
     "output_type": "display_data"
    }
   ],
   "source": [
    "norm= io.imread(\"F://newdata//1  T2W-FLAIR - 301/BS.050170 - IM-0003-0001-0001.jpg\")\n",
    "print(norm.shape)\n",
    "im = Image.open(\"F://newdata//1  T2W-FLAIR - 301 skull stripped/BS.050170 - IM-0003-0001-0001.jpg\")\n",
    "print(np.array(im).shape)\n",
    "im1=enhance(Image.open(\"F://newdata//1  T2W-FLAIR - 301 skull stripped/BS.050170 - IM-0003-0001-0001.jpg\"))\n",
    "print(im1.shape)\n",
    "plt.figure()\n",
    "fig = plt.subplot(1 ,3, 1)\n",
    "plt.imshow(np.array(norm), cmap=plt.cm.gray)\n",
    "plt.title(\"Raw image\")\n",
    "plt.xticks(())\n",
    "plt.yticks(())\n",
    "fig = plt.subplot(1 ,3, 2)\n",
    "plt.imshow(np.array(im), cmap=plt.cm.gray)\n",
    "plt.title(\"Skull stripped Image\")\n",
    "plt.xticks(())\n",
    "plt.yticks(())\n",
    "fig =plt.subplot(1,3,3)\n",
    "plt.imshow(im1,cmap=\"gray\")\n",
    "plt.title(\"Preprocessed Image\")\n",
    "plt.xticks(())\n",
    "plt.yticks(())\n",
    "plt.tight_layout()\n",
    "plt.show()"
   ]
  },
  {
   "cell_type": "code",
   "execution_count": 14,
   "metadata": {},
   "outputs": [],
   "source": [
    "#We dont do psuedocoloring\n",
    "def psucol(img):\n",
    "    im_gray=np.array(img)\n",
    "    im_color = cv2.applyColorMap(im_gray, cv2.COLORMAP_JET)\n",
    "    return Image.fromarray(im_color)"
   ]
  },
  {
   "cell_type": "code",
   "execution_count": 15,
   "metadata": {},
   "outputs": [],
   "source": [
    "\n",
    "def getcoordinates(bin_img_location):\n",
    "    #get the coordinates for the cropping\n",
    "    \n",
    "    im=io.imread(bin_img_location)\n",
    "    coord =np.argwhere(im != 0)\n",
    "    min_left_coord=248\n",
    "    for x in coord:\n",
    "        if(x[1]<min_left_coord):\n",
    "            min_left_coord=x[1]\n",
    "    max_right_coord=0\n",
    "    for x in coord:\n",
    "        if(x[1]>max_right_coord):\n",
    "            max_right_coord=x[1]\n",
    "    upper_coord=coord[0][0]\n",
    "    bottom_coord=coord[-1][0]\n",
    "    return (min_left_coord,upper_coord,max_right_coord,bottom_coord)\n",
    "\n",
    "def crop_image(img_location,bin_img):\n",
    "    #cropping the black out part of the image\n",
    "    im=Image.open(img_location)\n",
    "    \n",
    "    img2 = im.crop(getcoordinates(bin_img))\n",
    "    return np.array(img2)\n",
    "\n",
    "def power(image):\n",
    "    # Normalize images for better comparison.\n",
    "    image = (image - image.mean()) / image.std()\n",
    "    return image"
   ]
  },
  {
   "cell_type": "markdown",
   "metadata": {},
   "source": [
    "## We are preprocessing the image by denoising, increasing the contrast, sharpening and equalising the image"
   ]
  },
  {
   "cell_type": "code",
   "execution_count": 16,
   "metadata": {},
   "outputs": [],
   "source": [
    "cont15=\"F://newdata//301ss enhanced_contstretch\"\n",
    "\n",
    "if(not os.path.isdir(cont15)):\n",
    "    os.mkdir(cont15)"
   ]
  },
  {
   "cell_type": "code",
   "execution_count": 17,
   "metadata": {},
   "outputs": [],
   "source": [
    "def makefol(make=False):\n",
    "    if(make==True):\n",
    "        for file in os.listdir(newdir):\n",
    "            img =Image.open(os.path.join(newdir,file))\n",
    "            bin1=Image.open(os.path.join(binary,\"binary\"+file))\n",
    "            kite=bin1==0\n",
    "            img1=enhance(img)\n",
    "            ##imgp=psucol(img1)\n",
    "            img1[kite]=0\n",
    "            scipy.misc.imsave(os.path.join(cont15,file), img1)\n",
    "            "
   ]
  },
  {
   "cell_type": "code",
   "execution_count": 18,
   "metadata": {},
   "outputs": [
    {
     "name": "stdout",
     "output_type": "stream",
     "text": [
      "Wall time: 0 ns\n"
     ]
    }
   ],
   "source": [
    "%time makefol(make=False)"
   ]
  },
  {
   "cell_type": "markdown",
   "metadata": {},
   "source": [
    "## Plotting the histogram"
   ]
  },
  {
   "cell_type": "code",
   "execution_count": 26,
   "metadata": {},
   "outputs": [
    {
     "name": "stdout",
     "output_type": "stream",
     "text": [
      "<class 'numpy.ndarray'>\n",
      "<class 'numpy.ndarray'>\n"
     ]
    },
    {
     "data": {
      "image/png": "[encoded data removed]",
      "text/plain": [
       "<Figure size 288x288 with 6 Axes>"
      ]
     },
     "metadata": {
      "needs_background": "light"
     },
     "output_type": "display_data"
    }
   ],
   "source": [
    "def plot(img,binim,title):\n",
    "    img=io.imread(img)\n",
    "    binim=io.imread(binim)\n",
    "    binim=binim.ravel()\n",
    "    kite=binim!=0\n",
    "    plt.hist(img.ravel()[kite],200,[5,250]);\n",
    "    plt.title(title);\n",
    "    plt.xlabel(\"Pixel Value\")\n",
    "    plt.ylabel(\"Pixel Intensity\")\n",
    "   # print(img.ravel()[kite].shape)\n",
    "    return plt\n",
    "sample_img=\"F://newdata//1  T2W-FLAIR - 301 skull stripped/BS.050170 - IM-0003-0001-0001.jpg\"\n",
    "sample_preImg=\"F://newdata//301ss enhanced_contstretch/BS.050170 - IM-0003-0001-0001.jpg\"\n",
    "bin_img=\"F://newdata//1  T2W-FLAIR - 301 binary/binaryBS.050170 - IM-0003-0001-0001.jpg\"\n",
    "import matplotlib\n",
    "import matplotlib.pyplot as plt\n",
    "import numpy as np\n",
    "\n",
    "from skimage import data, img_as_float\n",
    "from skimage import exposure\n",
    "\n",
    "\n",
    "matplotlib.rcParams['font.size'] = 8\n",
    "\n",
    "def plot_img_and_hist(image, axes, bins=256):\n",
    "    \"\"\"Plot an image along with its histogram and cumulative histogram.\n",
    "\n",
    "    \"\"\"\n",
    "    \n",
    "    print(type(axes))\n",
    "    ax_img, ax_hist = axes\n",
    "    ax_cdf = ax_hist.twinx()\n",
    "    \n",
    "    image = crop_image(image,bin_img)\n",
    "    image = img_as_float(image)\n",
    "    # Display image\n",
    "    ax_img.imshow(image, cmap=plt.cm.gray)\n",
    "    ax_img.set_axis_off()\n",
    "\n",
    "    # Display histogram\n",
    "    ax_hist.hist(image.ravel(), bins=bins)\n",
    "    #ax_hist.ticklabel_format(axis='y', scilimits=(0, 0))\n",
    "    ax_hist.set_xlabel('Pixel intensity')\n",
    "    ax_hist.set_xlim(0, 1)\n",
    "    ax_hist.set_yticks([])\n",
    "\n",
    "    # Display cumulative distribution\n",
    "    img_cdf, bins = exposure.cumulative_distribution(image, bins)\n",
    "    ax_cdf.plot(bins, img_cdf,'r')\n",
    "    ax_cdf.set_yticks([])\n",
    "    #print(type(ax_cdf))\n",
    "\n",
    "    return ax_img, ax_hist, ax_cdf\n",
    "\n",
    "\n",
    "# Display results\n",
    "fig = plt.figure(figsize=(4,4))\n",
    "axes = np.zeros((2, 2), dtype=np.object)\n",
    "axes[0, 0] = fig.add_subplot(2, 2, 1)\n",
    "for i in range(1, 2):\n",
    "    axes[0, i] = fig.add_subplot(2, 2, 1+i, sharex=axes[0,0], sharey=axes[0,0])\n",
    "for i in range(0, 2):\n",
    "    axes[1, i] = fig.add_subplot(2, 2, 3+i)\n",
    "\n",
    "ax_img, ax_hist, ax_cdf = plot_img_and_hist(sample_img, axes[:, 0])\n",
    "ax_img.set_title('Before Processing')\n",
    "\n",
    "y_min, y_max = ax_hist.get_ylim()\n",
    "ax_hist.set_ylabel('Number of pixels')\n",
    "ax_hist.set_yticks(np.linspace(0, y_max, 5))\n",
    "\n",
    "ax_img, ax_hist, ax_cdf = plot_img_and_hist(sample_preImg, axes[:, 1])\n",
    "ax_img.set_title('After Preprocessing')\n",
    "\n",
    "#ax_img, ax_hist, ax_cdf = plot_img_and_hist(im1, axes[:, 2])\n",
    "#ax_img.set_title('Histogram equalization')\n",
    "\n",
    "#ax_img, ax_hist, ax_cdf = plot_img_and_hist(img_adapteq, axes[:, 3])\n",
    "#ax_img.set_title('Adaptive equalization')\"\"\n",
    "\n",
    "ax_cdf.set_ylabel('Fraction of total intensity')\n",
    "ax_cdf.set_yticks(np.linspace(0, 1, 5))\n",
    "\n",
    "# prevent overlap of y-axis labels\n",
    "fig.tight_layout()\n",
    "plt.show()"
   ]
  },
  {
   "cell_type": "code",
   "execution_count": null,
   "metadata": {},
   "outputs": [],
   "source": []
  },
  {
   "cell_type": "code",
   "execution_count": 24,
   "metadata": {
    "scrolled": true
   },
   "outputs": [
    {
     "data": {
      "image/png": "[encoded data removed]",
      "text/plain": [
       "<Figure size 720x288 with 2 Axes>"
      ]
     },
     "metadata": {
      "needs_background": "light"
     },
     "output_type": "display_data"
    }
   ],
   "source": [
    "binim=io.imread(\"F://newdata/1  T2W-FLAIR - 301 binary//binaryBS.050170 - IM-0003-0001-0001.jpg\")\n",
    "fig =plt.figure(figsize=(10,4))\n",
    "plt.subplot(1,2,1)\n",
    "plot(sample_img,bin_img,\"Original Image before Processing\")\n",
    "plt.subplot(1,2,2)\n",
    "plot(sample_preImg,bin_img,\"After Processing and Enhancing\")\n",
    "#We find that doing the processing the image histogram is distributed \n",
    "plt.tight_layout()\n",
    "plt.show()"
   ]
  },
  {
   "cell_type": "markdown",
   "metadata": {},
   "source": [
    "## Extracting the gabor features"
   ]
  },
  {
   "cell_type": "code",
   "execution_count": 100,
   "metadata": {},
   "outputs": [],
   "source": [
    "from scipy.stats import entropy as scipy_entropy\n",
    "\n",
    "\n",
    "def shannon_entropy(image, base=2):\n",
    "    \"\"\"Calculate the Shannon entropy of an image.\n",
    "    The Shannon entropy is defined as S = -sum(pk * log(pk)),\n",
    "    where pk are frequency/probability of pixels of value k.\n",
    "    Parameters\n",
    "    ----------\n",
    "    image : (N, M) ndarray\n",
    "        Grayscale input image.\n",
    "    base : float, optional\n",
    "        The logarithmic base to use.\n",
    "    Returns\n",
    "    -------\n",
    "    entropy : float\n",
    "    Notes\n",
    "    -----\n",
    "    The returned value is measured in bits or shannon (Sh) for base=2, natural\n",
    "    unit (nat) for base=np.e and hartley (Hart) for base=10.\n",
    "    References\n",
    "    ----------\n",
    "    .. [1] https://en.wikipedia.org/wiki/Entropy_(information_theory)\n",
    "    .. [2] https://en.wiktionary.org/wiki/Shannon_entropy\n",
    "    Examples\n",
    "    --------\n",
    "    >>> from skimage import data\n",
    "    >>> shannon_entropy(data.camera())\n",
    "    7.0479552324230861\n",
    "    \"\"\"\n",
    "\n",
    "    _, counts = unique(image, return_counts=True)\n",
    "    return scipy_entropy(counts, base=base)"
   ]
  },
  {
   "cell_type": "code",
   "execution_count": 101,
   "metadata": {},
   "outputs": [],
   "source": [
    "# define gabor filter bank with different orientations and at different scales\n",
    "def build_filters():\n",
    "    filters = []\n",
    "    ksize = 9\n",
    "    #define the range for theta and nu\n",
    "    for theta in np.arange(0, np.pi, np.pi / 8):\n",
    "        for nu in np.arange(0, 6*np.pi/4 , np.pi / 4):\n",
    "            kern = cv2.getGaborKernel((ksize, ksize), 1.0, theta, nu, 0.5, 0, ktype=cv2.CV_32F)\n",
    "            kern /= 1.5*kern.sum()\n",
    "            filters.append(kern)\n",
    "    return filters\n",
    "\n",
    "#function to convolve the image with the filters\n",
    "\"\"\"\"def process(img, filters):\n",
    "    \n",
    "    accum = np.zeros_like(img)\n",
    "    for kern in filters:\n",
    "        fimg = cv2.filter2D(img, cv2.CV_8UC3, kern)\n",
    "        np.maximum(accum, fimg, accum)\n",
    "    return accum  \"\"\"\"\"\n",
    "def compute_feats(image, kernels):\n",
    "    feats = np.zeros((len(kernels), 2), dtype=np.double)\n",
    "    for k, kernel in enumerate(kernels):\n",
    "        filtered = ndi.convolve(image, kernel, mode='wrap')\n",
    "        feats[k, 0] = filtered.mean()\n",
    "        feats[k, 1] = filtered.var()\n",
    "    return feats\n",
    "\n",
    "\n",
    "#\n",
    "def gabor(imgg):\n",
    "    #instantiating the filters\n",
    "    filters = build_filters()\n",
    "\n",
    "    f = np.asarray(filters)\n",
    "\n",
    "    #reading the input image\n",
    "    #imgg = cv2.imread(filename,0)\n",
    "    image= power(imgg)\n",
    "    #initializing the feature vector\n",
    "    feat = []\n",
    "\n",
    "    #calculating the local energy for each convolved image\n",
    "    for k, kernel in enumerate(f):\n",
    "        filtered = ndi.convolve(image, kernel, mode='wrap')\n",
    "        feat.append( filtered.mean())\n",
    "        feat.append(filtered.var())\n",
    "        feat.append(shannon_entropy(filtered))\n",
    "    return np.array(feat)\n",
    "    #fet matrix is the feature vector for the image\n",
    "newdir=cont15"
   ]
  },
  {
   "cell_type": "code",
   "execution_count": null,
   "metadata": {},
   "outputs": [],
   "source": []
  },
  {
   "cell_type": "markdown",
   "metadata": {},
   "source": [
    "# Extracting Gabor Features"
   ]
  },
  {
   "cell_type": "code",
   "execution_count": 107,
   "metadata": {},
   "outputs": [],
   "source": [
    "binim=\"F://newdata/1  T2W-FLAIR - 301 binary\"\n",
    "def gbor():\n",
    "    for file in os.listdir(newdir):\n",
    "        bin_img=os.path.join(binim,\"binary\"+file)\n",
    "        fileadd=os.path.join(newdir,file)\n",
    "        images.append(file[0:-4])\n",
    "        cropped_img=crop_image(fileadd,bin_img)\n",
    "       # print(file+\" feature extracted\")\n",
    "        gfeats.append(gabor(cropped_img))\n",
    "        \n",
    "      "
   ]
  },
  {
   "cell_type": "code",
   "execution_count": 114,
   "metadata": {},
   "outputs": [
    {
     "name": "stdout",
     "output_type": "stream",
     "text": [
      "(824, 144)\n"
     ]
    }
   ],
   "source": [
    "Recreate = True\n",
    "if((not os.path.isfile(\"F://gaborfeatures1.csv\") )or Recreate):\n",
    "    images=[]\n",
    "    gfeats=[]\n",
    "    gbor()\n",
    "    gfeats=np.array(gfeats)\n",
    "    print(gfeats.shape)\n",
    "    images=np.array(images)\n",
    "    col=[\"name\"]\n",
    "    for x in range(1,gfeats.shape[1]):\n",
    "        col.append(\"gabf\"+str(x))\n",
    "    gaborf =pd.DataFrame(columns=col)\n",
    "    gaborf[\"name\"]=images\n",
    "    for index,z in enumerate(col[1:]):\n",
    "        gaborf[z]=gfeats[:,index]\n",
    "    gaborf.to_csv(\"F://gaborfeatures1.csv\")\n",
    "else :\n",
    "    gaborf =pd.read_csv(\"F://gaborfeatures1.csv\",index_col=0)"
   ]
  },
  {
   "cell_type": "code",
   "execution_count": 138,
   "metadata": {},
   "outputs": [
    {
     "data": {
      "text/html": [
       "<div>\n",
       "<style scoped>\n",
       "    .dataframe tbody tr th:only-of-type {\n",
       "        vertical-align: middle;\n",
       "    }\n",
       "\n",
       "    .dataframe tbody tr th {\n",
       "        vertical-align: top;\n",
       "    }\n",
       "\n",
       "    .dataframe thead th {\n",
       "        text-align: right;\n",
       "    }\n",
       "</style>\n",
       "<table border=\"1\" class=\"dataframe\">\n",
       "  <thead>\n",
       "    <tr style=\"text-align: right;\">\n",
       "      <th></th>\n",
       "      <th>name</th>\n",
       "      <th>gabf4</th>\n",
       "      <th>gabf5</th>\n",
       "      <th>gabf6</th>\n",
       "      <th>gabf7</th>\n",
       "      <th>gabf8</th>\n",
       "      <th>gabf9</th>\n",
       "      <th>gabf10</th>\n",
       "      <th>gabf11</th>\n",
       "      <th>gabf12</th>\n",
       "      <th>...</th>\n",
       "      <th>gabf134</th>\n",
       "      <th>gabf135</th>\n",
       "      <th>gabf136</th>\n",
       "      <th>gabf137</th>\n",
       "      <th>gabf138</th>\n",
       "      <th>gabf139</th>\n",
       "      <th>gabf140</th>\n",
       "      <th>gabf141</th>\n",
       "      <th>gabf142</th>\n",
       "      <th>gabf143</th>\n",
       "    </tr>\n",
       "  </thead>\n",
       "  <tbody>\n",
       "    <tr>\n",
       "      <th>0</th>\n",
       "      <td>BS.050170 - IM-0003-0001-0001</td>\n",
       "      <td>1.520516e-16</td>\n",
       "      <td>0.442175</td>\n",
       "      <td>11.889257</td>\n",
       "      <td>1.216413e-16</td>\n",
       "      <td>0.732249</td>\n",
       "      <td>11.889955</td>\n",
       "      <td>-2.128723e-16</td>\n",
       "      <td>2.064032</td>\n",
       "      <td>11.890290</td>\n",
       "      <td>...</td>\n",
       "      <td>11615.584937</td>\n",
       "      <td>11.891934</td>\n",
       "      <td>-8.688665e-17</td>\n",
       "      <td>1.252484</td>\n",
       "      <td>11.891552</td>\n",
       "      <td>1.477073e-16</td>\n",
       "      <td>0.482038</td>\n",
       "      <td>11.891552</td>\n",
       "      <td>7.385365e-17</td>\n",
       "      <td>0.414111</td>\n",
       "    </tr>\n",
       "    <tr>\n",
       "      <th>1</th>\n",
       "      <td>BS.050170 - IM-0003-0002-0001</td>\n",
       "      <td>7.218212e-17</td>\n",
       "      <td>0.446623</td>\n",
       "      <td>12.753780</td>\n",
       "      <td>9.624283e-18</td>\n",
       "      <td>0.767255</td>\n",
       "      <td>12.753441</td>\n",
       "      <td>-1.443642e-16</td>\n",
       "      <td>2.193499</td>\n",
       "      <td>12.753691</td>\n",
       "      <td>...</td>\n",
       "      <td>13478.548743</td>\n",
       "      <td>12.755209</td>\n",
       "      <td>3.368499e-17</td>\n",
       "      <td>1.343801</td>\n",
       "      <td>12.754891</td>\n",
       "      <td>9.624283e-17</td>\n",
       "      <td>0.488309</td>\n",
       "      <td>12.755125</td>\n",
       "      <td>1.154914e-16</td>\n",
       "      <td>0.411645</td>\n",
       "    </tr>\n",
       "  </tbody>\n",
       "</table>\n",
       "<p>2 rows × 120 columns</p>\n",
       "</div>"
      ],
      "text/plain": [
       "                            name         gabf4     gabf5      gabf6  \\\n",
       "0  BS.050170 - IM-0003-0001-0001  1.520516e-16  0.442175  11.889257   \n",
       "1  BS.050170 - IM-0003-0002-0001  7.218212e-17  0.446623  12.753780   \n",
       "\n",
       "          gabf7     gabf8      gabf9        gabf10    gabf11     gabf12  \\\n",
       "0  1.216413e-16  0.732249  11.889955 -2.128723e-16  2.064032  11.890290   \n",
       "1  9.624283e-18  0.767255  12.753441 -1.443642e-16  2.193499  12.753691   \n",
       "\n",
       "     ...          gabf134    gabf135       gabf136   gabf137    gabf138  \\\n",
       "0    ...     11615.584937  11.891934 -8.688665e-17  1.252484  11.891552   \n",
       "1    ...     13478.548743  12.755209  3.368499e-17  1.343801  12.754891   \n",
       "\n",
       "        gabf139   gabf140    gabf141       gabf142   gabf143  \n",
       "0  1.477073e-16  0.482038  11.891552  7.385365e-17  0.414111  \n",
       "1  9.624283e-17  0.488309  12.755125  1.154914e-16  0.411645  \n",
       "\n",
       "[2 rows x 120 columns]"
      ]
     },
     "execution_count": 138,
     "metadata": {},
     "output_type": "execute_result"
    }
   ],
   "source": [
    "gaborf.head(2)\n",
    "##Removing the columns with zero values\n",
    "gaborf=gaborf.loc[:, (gaborf != 0).any(axis=0)]\n",
    "gaborf.head(2)"
   ]
  },
  {
   "cell_type": "code",
   "execution_count": 139,
   "metadata": {},
   "outputs": [
    {
     "data": {
      "text/html": [
       "<div>\n",
       "<style scoped>\n",
       "    .dataframe tbody tr th:only-of-type {\n",
       "        vertical-align: middle;\n",
       "    }\n",
       "\n",
       "    .dataframe tbody tr th {\n",
       "        vertical-align: top;\n",
       "    }\n",
       "\n",
       "    .dataframe thead th {\n",
       "        text-align: right;\n",
       "    }\n",
       "</style>\n",
       "<table border=\"1\" class=\"dataframe\">\n",
       "  <thead>\n",
       "    <tr style=\"text-align: right;\">\n",
       "      <th></th>\n",
       "      <th>gabf4</th>\n",
       "      <th>gabf5</th>\n",
       "      <th>gabf6</th>\n",
       "      <th>gabf7</th>\n",
       "      <th>gabf8</th>\n",
       "      <th>gabf9</th>\n",
       "      <th>gabf10</th>\n",
       "      <th>gabf11</th>\n",
       "      <th>gabf12</th>\n",
       "      <th>gabf13</th>\n",
       "      <th>...</th>\n",
       "      <th>gabf134</th>\n",
       "      <th>gabf135</th>\n",
       "      <th>gabf136</th>\n",
       "      <th>gabf137</th>\n",
       "      <th>gabf138</th>\n",
       "      <th>gabf139</th>\n",
       "      <th>gabf140</th>\n",
       "      <th>gabf141</th>\n",
       "      <th>gabf142</th>\n",
       "      <th>gabf143</th>\n",
       "    </tr>\n",
       "  </thead>\n",
       "  <tbody>\n",
       "    <tr>\n",
       "      <th>gabf4</th>\n",
       "      <td>1.000000</td>\n",
       "      <td>0.011298</td>\n",
       "      <td>0.019306</td>\n",
       "      <td>0.241519</td>\n",
       "      <td>0.041436</td>\n",
       "      <td>0.019362</td>\n",
       "      <td>0.162842</td>\n",
       "      <td>0.033556</td>\n",
       "      <td>0.019293</td>\n",
       "      <td>0.342596</td>\n",
       "      <td>...</td>\n",
       "      <td>0.038616</td>\n",
       "      <td>0.019073</td>\n",
       "      <td>0.261353</td>\n",
       "      <td>0.041608</td>\n",
       "      <td>0.019068</td>\n",
       "      <td>0.355088</td>\n",
       "      <td>0.023297</td>\n",
       "      <td>0.019107</td>\n",
       "      <td>0.372095</td>\n",
       "      <td>-0.033569</td>\n",
       "    </tr>\n",
       "    <tr>\n",
       "      <th>gabf5</th>\n",
       "      <td>0.011298</td>\n",
       "      <td>1.000000</td>\n",
       "      <td>0.294895</td>\n",
       "      <td>0.028823</td>\n",
       "      <td>0.220135</td>\n",
       "      <td>0.294908</td>\n",
       "      <td>-0.005009</td>\n",
       "      <td>0.142575</td>\n",
       "      <td>0.294723</td>\n",
       "      <td>0.031004</td>\n",
       "      <td>...</td>\n",
       "      <td>-0.427616</td>\n",
       "      <td>0.294334</td>\n",
       "      <td>-0.003369</td>\n",
       "      <td>-0.227494</td>\n",
       "      <td>0.294428</td>\n",
       "      <td>0.038857</td>\n",
       "      <td>0.309583</td>\n",
       "      <td>0.294414</td>\n",
       "      <td>0.048621</td>\n",
       "      <td>0.733733</td>\n",
       "    </tr>\n",
       "    <tr>\n",
       "      <th>gabf6</th>\n",
       "      <td>0.019306</td>\n",
       "      <td>0.294895</td>\n",
       "      <td>1.000000</td>\n",
       "      <td>0.020134</td>\n",
       "      <td>-0.187024</td>\n",
       "      <td>0.999999</td>\n",
       "      <td>0.011667</td>\n",
       "      <td>-0.203721</td>\n",
       "      <td>0.999999</td>\n",
       "      <td>0.009074</td>\n",
       "      <td>...</td>\n",
       "      <td>-0.379088</td>\n",
       "      <td>0.999993</td>\n",
       "      <td>0.028071</td>\n",
       "      <td>-0.299398</td>\n",
       "      <td>0.999994</td>\n",
       "      <td>-0.043964</td>\n",
       "      <td>-0.062856</td>\n",
       "      <td>0.999994</td>\n",
       "      <td>0.021275</td>\n",
       "      <td>0.390144</td>\n",
       "    </tr>\n",
       "    <tr>\n",
       "      <th>gabf7</th>\n",
       "      <td>0.241519</td>\n",
       "      <td>0.028823</td>\n",
       "      <td>0.020134</td>\n",
       "      <td>1.000000</td>\n",
       "      <td>0.012179</td>\n",
       "      <td>0.020217</td>\n",
       "      <td>0.153585</td>\n",
       "      <td>0.014900</td>\n",
       "      <td>0.020201</td>\n",
       "      <td>0.289126</td>\n",
       "      <td>...</td>\n",
       "      <td>0.004187</td>\n",
       "      <td>0.020302</td>\n",
       "      <td>0.262340</td>\n",
       "      <td>0.005551</td>\n",
       "      <td>0.020254</td>\n",
       "      <td>0.296437</td>\n",
       "      <td>0.025061</td>\n",
       "      <td>0.020236</td>\n",
       "      <td>0.314502</td>\n",
       "      <td>0.024997</td>\n",
       "    </tr>\n",
       "    <tr>\n",
       "      <th>gabf8</th>\n",
       "      <td>0.041436</td>\n",
       "      <td>0.220135</td>\n",
       "      <td>-0.187024</td>\n",
       "      <td>0.012179</td>\n",
       "      <td>1.000000</td>\n",
       "      <td>-0.187115</td>\n",
       "      <td>0.036249</td>\n",
       "      <td>0.991725</td>\n",
       "      <td>-0.187155</td>\n",
       "      <td>0.002415</td>\n",
       "      <td>...</td>\n",
       "      <td>0.704887</td>\n",
       "      <td>-0.187322</td>\n",
       "      <td>-0.026681</td>\n",
       "      <td>0.825551</td>\n",
       "      <td>-0.187290</td>\n",
       "      <td>-0.017282</td>\n",
       "      <td>0.770991</td>\n",
       "      <td>-0.187311</td>\n",
       "      <td>0.025868</td>\n",
       "      <td>-0.452252</td>\n",
       "    </tr>\n",
       "  </tbody>\n",
       "</table>\n",
       "<p>5 rows × 119 columns</p>\n",
       "</div>"
      ],
      "text/plain": [
       "          gabf4     gabf5     gabf6     gabf7     gabf8     gabf9    gabf10  \\\n",
       "gabf4  1.000000  0.011298  0.019306  0.241519  0.041436  0.019362  0.162842   \n",
       "gabf5  0.011298  1.000000  0.294895  0.028823  0.220135  0.294908 -0.005009   \n",
       "gabf6  0.019306  0.294895  1.000000  0.020134 -0.187024  0.999999  0.011667   \n",
       "gabf7  0.241519  0.028823  0.020134  1.000000  0.012179  0.020217  0.153585   \n",
       "gabf8  0.041436  0.220135 -0.187024  0.012179  1.000000 -0.187115  0.036249   \n",
       "\n",
       "         gabf11    gabf12    gabf13    ...      gabf134   gabf135   gabf136  \\\n",
       "gabf4  0.033556  0.019293  0.342596    ...     0.038616  0.019073  0.261353   \n",
       "gabf5  0.142575  0.294723  0.031004    ...    -0.427616  0.294334 -0.003369   \n",
       "gabf6 -0.203721  0.999999  0.009074    ...    -0.379088  0.999993  0.028071   \n",
       "gabf7  0.014900  0.020201  0.289126    ...     0.004187  0.020302  0.262340   \n",
       "gabf8  0.991725 -0.187155  0.002415    ...     0.704887 -0.187322 -0.026681   \n",
       "\n",
       "        gabf137   gabf138   gabf139   gabf140   gabf141   gabf142   gabf143  \n",
       "gabf4  0.041608  0.019068  0.355088  0.023297  0.019107  0.372095 -0.033569  \n",
       "gabf5 -0.227494  0.294428  0.038857  0.309583  0.294414  0.048621  0.733733  \n",
       "gabf6 -0.299398  0.999994 -0.043964 -0.062856  0.999994  0.021275  0.390144  \n",
       "gabf7  0.005551  0.020254  0.296437  0.025061  0.020236  0.314502  0.024997  \n",
       "gabf8  0.825551 -0.187290 -0.017282  0.770991 -0.187311  0.025868 -0.452252  \n",
       "\n",
       "[5 rows x 119 columns]"
      ]
     },
     "execution_count": 139,
     "metadata": {},
     "output_type": "execute_result"
    }
   ],
   "source": [
    "X=gaborf.iloc[:,1:];\n",
    "X = X.loc[:, (X != 0).any(axis=0)]\n",
    "cor=X.corr()\n",
    "cor.head(5)"
   ]
  },
  {
   "cell_type": "code",
   "execution_count": 121,
   "metadata": {},
   "outputs": [
    {
     "data": {
      "text/plain": [
       "PCA(copy=True, iterated_power='auto', n_components=2, random_state=None,\n",
       "  svd_solver='auto', tol=0.0, whiten=False)"
      ]
     },
     "execution_count": 121,
     "metadata": {},
     "output_type": "execute_result"
    }
   ],
   "source": [
    "from sklearn.decomposition import PCA\n",
    "pca = PCA(n_components=2)\n",
    "pca.fit(X)"
   ]
  },
  {
   "cell_type": "code",
   "execution_count": 132,
   "metadata": {},
   "outputs": [],
   "source": [
    "X=pca.transform(X)\n"
   ]
  },
  {
   "cell_type": "code",
   "execution_count": null,
   "metadata": {},
   "outputs": [],
   "source": []
  },
  {
   "cell_type": "markdown",
   "metadata": {},
   "source": [
    "## As we can see a lot of variables with coorelation >0.5 so we choose a reduction of features such that Coorealation is <0.5. Dimensions exhibiting higher correlation can lower down the performance of model. Moreover, it is not good to have multiple variables of similar information or variation also known as “Multicollinearity”.Variables having higher value ( VIF > 5 ) can be dropped."
   ]
  },
  {
   "cell_type": "code",
   "execution_count": 140,
   "metadata": {},
   "outputs": [],
   "source": [
    "from statsmodels.stats.outliers_influence import variance_inflation_factor    \n",
    "\n",
    "def calculate_vif_(X, thresh=5.0):\n",
    "    variables = list(range(X.shape[1]))\n",
    "    dropped = True\n",
    "    while dropped:\n",
    "        dropped = False\n",
    "        vif = [variance_inflation_factor(X.iloc[:, variables].values, ix)\n",
    "               for ix in range(X.iloc[:, variables].shape[1])]\n",
    "\n",
    "        maxloc = vif.index(max(vif))\n",
    "        if max(vif) > thresh:\n",
    "            print('dropping \\'' + X.iloc[:, variables].columns[maxloc] +\n",
    "                  '\\' at index: ' + str(maxloc))\n",
    "            del variables[maxloc]\n",
    "            dropped = True\n",
    "\n",
    "    print('Remaining variables:')\n",
    "    print(X.columns[variables])\n",
    "    return X.iloc[:, variables]"
   ]
  },
  {
   "cell_type": "code",
   "execution_count": 141,
   "metadata": {},
   "outputs": [
    {
     "name": "stdout",
     "output_type": "stream",
     "text": [
      "shape of X is  (824, 119)\n",
      "dropping 'gabf77' at index: 61\n",
      "dropping 'gabf99' at index: 79\n",
      "dropping 'gabf63' at index: 50\n",
      "dropping 'gabf5' at index: 1\n",
      "dropping 'gabf96' at index: 74\n",
      "dropping 'gabf60' at index: 46\n",
      "dropping 'gabf27' at index: 19\n",
      "dropping 'gabf132' at index: 100\n",
      "dropping 'gabf135' at index: 102\n",
      "dropping 'gabf24' at index: 16\n",
      "dropping 'gabf66' at index: 48\n",
      "dropping 'gabf102' at index: 74\n",
      "dropping 'gabf117' at index: 85\n",
      "dropping 'gabf105' at index: 76\n",
      "dropping 'gabf33' at index: 23\n",
      "dropping 'gabf36' at index: 25\n",
      "dropping 'gabf30' at index: 20\n",
      "dropping 'gabf69' at index: 47\n",
      "dropping 'gabf72' at index: 49\n",
      "dropping 'gabf48' at index: 32\n",
      "dropping 'gabf138' at index: 93\n",
      "dropping 'gabf51' at index: 34\n",
      "dropping 'gabf84' at index: 54\n",
      "dropping 'gabf54' at index: 36\n",
      "dropping 'gabf108' at index: 69\n",
      "dropping 'gabf123' at index: 79\n",
      "dropping 'gabf120' at index: 76\n",
      "dropping 'gabf42' at index: 26\n",
      "dropping 'gabf87' at index: 54\n",
      "dropping 'gabf126' at index: 78\n",
      "dropping 'gabf81' at index: 49\n",
      "dropping 'gabf6' at index: 1\n",
      "dropping 'gabf9' at index: 3\n",
      "dropping 'gabf18' at index: 11\n",
      "dropping 'gabf15' at index: 8\n",
      "dropping 'gabf141' at index: 81\n",
      "dropping 'gabf78' at index: 42\n",
      "dropping 'gabf12' at index: 5\n",
      "dropping 'gabf114' at index: 62\n",
      "dropping 'gabf89' at index: 48\n",
      "dropping 'gabf17' at index: 8\n",
      "dropping 'gabf53' at index: 28\n",
      "dropping 'gabf45' at index: 22\n",
      "dropping 'gabf125' at index: 65\n",
      "dropping 'gabf71' at index: 36\n",
      "dropping 'gabf143' at index: 73\n",
      "dropping 'gabf107' at index: 54\n",
      "dropping 'gabf14' at index: 6\n",
      "dropping 'gabf86' at index: 41\n",
      "dropping 'gabf35' at index: 16\n",
      "dropping 'gabf113' at index: 52\n",
      "dropping 'gabf50' at index: 23\n",
      "dropping 'gabf122' at index: 56\n",
      "dropping 'gabf68' at index: 31\n",
      "dropping 'gabf32' at index: 14\n",
      "dropping 'gabf104' at index: 46\n",
      "dropping 'gabf140' at index: 61\n",
      "dropping 'gabf80' at index: 33\n",
      "dropping 'gabf8' at index: 2\n",
      "dropping 'gabf131' at index: 53\n",
      "dropping 'gabf95' at index: 38\n",
      "dropping 'gabf47' at index: 19\n",
      "dropping 'gabf119' at index: 47\n",
      "dropping 'gabf62' at index: 24\n",
      "dropping 'gabf134' at index: 50\n",
      "dropping 'gabf90' at index: 34\n",
      "dropping 'gabf65' at index: 25\n",
      "dropping 'gabf26' at index: 9\n",
      "dropping 'gabf23' at index: 7\n",
      "dropping 'gabf101' at index: 35\n",
      "dropping 'gabf137' at index: 46\n",
      "dropping 'gabf29' at index: 9\n",
      "dropping 'gabf44' at index: 14\n",
      "dropping 'gabf59' at index: 18\n",
      "dropping 'gabf98' at index: 30\n",
      "dropping 'gabf83' at index: 25\n",
      "dropping 'gabf11' at index: 3\n",
      "dropping 'gabf116' at index: 33\n",
      "Remaining variables:\n",
      "Index(['gabf4', 'gabf7', 'gabf10', 'gabf13', 'gabf16', 'gabf22', 'gabf25',\n",
      "       'gabf28', 'gabf31', 'gabf34', 'gabf40', 'gabf41', 'gabf43', 'gabf46',\n",
      "       'gabf49', 'gabf52', 'gabf58', 'gabf61', 'gabf64', 'gabf67', 'gabf70',\n",
      "       'gabf76', 'gabf79', 'gabf82', 'gabf85', 'gabf88', 'gabf94', 'gabf97',\n",
      "       'gabf100', 'gabf103', 'gabf106', 'gabf112', 'gabf115', 'gabf118',\n",
      "       'gabf121', 'gabf124', 'gabf130', 'gabf133', 'gabf136', 'gabf139',\n",
      "       'gabf142'],\n",
      "      dtype='object')\n",
      "Wall time: 58.3 s\n",
      "New shape of X is  (824, 41)\n"
     ]
    }
   ],
   "source": [
    "print(\"shape of X is \",X.shape)\n",
    "%time X=calculate_vif_(X)\n",
    "print(\"New shape of X is \",X.shape)"
   ]
  },
  {
   "cell_type": "code",
   "execution_count": 142,
   "metadata": {},
   "outputs": [
    {
     "name": "stdout",
     "output_type": "stream",
     "text": [
      "New shape of X is  (824, 41)\n"
     ]
    },
    {
     "data": {
      "text/html": [
       "<div>\n",
       "<style scoped>\n",
       "    .dataframe tbody tr th:only-of-type {\n",
       "        vertical-align: middle;\n",
       "    }\n",
       "\n",
       "    .dataframe tbody tr th {\n",
       "        vertical-align: top;\n",
       "    }\n",
       "\n",
       "    .dataframe thead th {\n",
       "        text-align: right;\n",
       "    }\n",
       "</style>\n",
       "<table border=\"1\" class=\"dataframe\">\n",
       "  <thead>\n",
       "    <tr style=\"text-align: right;\">\n",
       "      <th></th>\n",
       "      <th>gabf4</th>\n",
       "      <th>gabf7</th>\n",
       "      <th>gabf10</th>\n",
       "      <th>gabf13</th>\n",
       "      <th>gabf16</th>\n",
       "      <th>gabf22</th>\n",
       "      <th>gabf25</th>\n",
       "      <th>gabf28</th>\n",
       "      <th>gabf31</th>\n",
       "      <th>gabf34</th>\n",
       "      <th>...</th>\n",
       "      <th>gabf112</th>\n",
       "      <th>gabf115</th>\n",
       "      <th>gabf118</th>\n",
       "      <th>gabf121</th>\n",
       "      <th>gabf124</th>\n",
       "      <th>gabf130</th>\n",
       "      <th>gabf133</th>\n",
       "      <th>gabf136</th>\n",
       "      <th>gabf139</th>\n",
       "      <th>gabf142</th>\n",
       "    </tr>\n",
       "  </thead>\n",
       "  <tbody>\n",
       "    <tr>\n",
       "      <th>gabf4</th>\n",
       "      <td>1.000000</td>\n",
       "      <td>0.241519</td>\n",
       "      <td>0.162842</td>\n",
       "      <td>0.342596</td>\n",
       "      <td>0.313030</td>\n",
       "      <td>-0.017755</td>\n",
       "      <td>-0.000955</td>\n",
       "      <td>0.278518</td>\n",
       "      <td>0.347622</td>\n",
       "      <td>0.391761</td>\n",
       "      <td>...</td>\n",
       "      <td>0.283186</td>\n",
       "      <td>-0.010921</td>\n",
       "      <td>0.207839</td>\n",
       "      <td>0.297848</td>\n",
       "      <td>0.346141</td>\n",
       "      <td>-0.029231</td>\n",
       "      <td>-0.025250</td>\n",
       "      <td>0.261353</td>\n",
       "      <td>0.355088</td>\n",
       "      <td>0.372095</td>\n",
       "    </tr>\n",
       "    <tr>\n",
       "      <th>gabf7</th>\n",
       "      <td>0.241519</td>\n",
       "      <td>1.000000</td>\n",
       "      <td>0.153585</td>\n",
       "      <td>0.289126</td>\n",
       "      <td>0.337009</td>\n",
       "      <td>0.002362</td>\n",
       "      <td>-0.037296</td>\n",
       "      <td>0.257946</td>\n",
       "      <td>0.322581</td>\n",
       "      <td>0.345320</td>\n",
       "      <td>...</td>\n",
       "      <td>0.295446</td>\n",
       "      <td>-0.000536</td>\n",
       "      <td>0.170958</td>\n",
       "      <td>0.264478</td>\n",
       "      <td>0.293235</td>\n",
       "      <td>0.026337</td>\n",
       "      <td>-0.053447</td>\n",
       "      <td>0.262340</td>\n",
       "      <td>0.296437</td>\n",
       "      <td>0.314502</td>\n",
       "    </tr>\n",
       "    <tr>\n",
       "      <th>gabf10</th>\n",
       "      <td>0.162842</td>\n",
       "      <td>0.153585</td>\n",
       "      <td>1.000000</td>\n",
       "      <td>0.236040</td>\n",
       "      <td>0.163919</td>\n",
       "      <td>-0.049132</td>\n",
       "      <td>0.007900</td>\n",
       "      <td>0.176243</td>\n",
       "      <td>0.224690</td>\n",
       "      <td>0.213066</td>\n",
       "      <td>...</td>\n",
       "      <td>0.155960</td>\n",
       "      <td>0.010944</td>\n",
       "      <td>0.141083</td>\n",
       "      <td>0.173420</td>\n",
       "      <td>0.188385</td>\n",
       "      <td>-0.008588</td>\n",
       "      <td>0.037713</td>\n",
       "      <td>0.109882</td>\n",
       "      <td>0.220705</td>\n",
       "      <td>0.193866</td>\n",
       "    </tr>\n",
       "    <tr>\n",
       "      <th>gabf13</th>\n",
       "      <td>0.342596</td>\n",
       "      <td>0.289126</td>\n",
       "      <td>0.236040</td>\n",
       "      <td>1.000000</td>\n",
       "      <td>0.377857</td>\n",
       "      <td>-0.016698</td>\n",
       "      <td>-0.008895</td>\n",
       "      <td>0.292498</td>\n",
       "      <td>0.359999</td>\n",
       "      <td>0.404273</td>\n",
       "      <td>...</td>\n",
       "      <td>0.312134</td>\n",
       "      <td>-0.004498</td>\n",
       "      <td>0.166183</td>\n",
       "      <td>0.367816</td>\n",
       "      <td>0.326805</td>\n",
       "      <td>0.018976</td>\n",
       "      <td>-0.000239</td>\n",
       "      <td>0.267297</td>\n",
       "      <td>0.379462</td>\n",
       "      <td>0.384223</td>\n",
       "    </tr>\n",
       "    <tr>\n",
       "      <th>gabf16</th>\n",
       "      <td>0.313030</td>\n",
       "      <td>0.337009</td>\n",
       "      <td>0.163919</td>\n",
       "      <td>0.377857</td>\n",
       "      <td>1.000000</td>\n",
       "      <td>0.035960</td>\n",
       "      <td>-0.016542</td>\n",
       "      <td>0.289200</td>\n",
       "      <td>0.373704</td>\n",
       "      <td>0.446795</td>\n",
       "      <td>...</td>\n",
       "      <td>0.317709</td>\n",
       "      <td>-0.003354</td>\n",
       "      <td>0.238920</td>\n",
       "      <td>0.311565</td>\n",
       "      <td>0.347771</td>\n",
       "      <td>-0.033094</td>\n",
       "      <td>-0.035219</td>\n",
       "      <td>0.271962</td>\n",
       "      <td>0.351003</td>\n",
       "      <td>0.381751</td>\n",
       "    </tr>\n",
       "  </tbody>\n",
       "</table>\n",
       "<p>5 rows × 41 columns</p>\n",
       "</div>"
      ],
      "text/plain": [
       "           gabf4     gabf7    gabf10    gabf13    gabf16    gabf22    gabf25  \\\n",
       "gabf4   1.000000  0.241519  0.162842  0.342596  0.313030 -0.017755 -0.000955   \n",
       "gabf7   0.241519  1.000000  0.153585  0.289126  0.337009  0.002362 -0.037296   \n",
       "gabf10  0.162842  0.153585  1.000000  0.236040  0.163919 -0.049132  0.007900   \n",
       "gabf13  0.342596  0.289126  0.236040  1.000000  0.377857 -0.016698 -0.008895   \n",
       "gabf16  0.313030  0.337009  0.163919  0.377857  1.000000  0.035960 -0.016542   \n",
       "\n",
       "          gabf28    gabf31    gabf34    ...      gabf112   gabf115   gabf118  \\\n",
       "gabf4   0.278518  0.347622  0.391761    ...     0.283186 -0.010921  0.207839   \n",
       "gabf7   0.257946  0.322581  0.345320    ...     0.295446 -0.000536  0.170958   \n",
       "gabf10  0.176243  0.224690  0.213066    ...     0.155960  0.010944  0.141083   \n",
       "gabf13  0.292498  0.359999  0.404273    ...     0.312134 -0.004498  0.166183   \n",
       "gabf16  0.289200  0.373704  0.446795    ...     0.317709 -0.003354  0.238920   \n",
       "\n",
       "         gabf121   gabf124   gabf130   gabf133   gabf136   gabf139   gabf142  \n",
       "gabf4   0.297848  0.346141 -0.029231 -0.025250  0.261353  0.355088  0.372095  \n",
       "gabf7   0.264478  0.293235  0.026337 -0.053447  0.262340  0.296437  0.314502  \n",
       "gabf10  0.173420  0.188385 -0.008588  0.037713  0.109882  0.220705  0.193866  \n",
       "gabf13  0.367816  0.326805  0.018976 -0.000239  0.267297  0.379462  0.384223  \n",
       "gabf16  0.311565  0.347771 -0.033094 -0.035219  0.271962  0.351003  0.381751  \n",
       "\n",
       "[5 rows x 41 columns]"
      ]
     },
     "execution_count": 142,
     "metadata": {},
     "output_type": "execute_result"
    }
   ],
   "source": [
    "X_new=X\n",
    "print(\"New shape of X is \",X_new.shape)\n",
    "cor=X_new.corr()\n",
    "cor.head(5)"
   ]
  },
  {
   "cell_type": "code",
   "execution_count": 143,
   "metadata": {},
   "outputs": [],
   "source": [
    "X_new[\"name\"]=images\n",
    "col=X_new.columns.tolist()\n",
    "col=col[-1:]+col[:-1]\n",
    "X_new=X_new[col]\n"
   ]
  },
  {
   "cell_type": "code",
   "execution_count": 144,
   "metadata": {},
   "outputs": [
    {
     "data": {
      "text/html": [
       "<div>\n",
       "<style scoped>\n",
       "    .dataframe tbody tr th:only-of-type {\n",
       "        vertical-align: middle;\n",
       "    }\n",
       "\n",
       "    .dataframe tbody tr th {\n",
       "        vertical-align: top;\n",
       "    }\n",
       "\n",
       "    .dataframe thead th {\n",
       "        text-align: right;\n",
       "    }\n",
       "</style>\n",
       "<table border=\"1\" class=\"dataframe\">\n",
       "  <thead>\n",
       "    <tr style=\"text-align: right;\">\n",
       "      <th></th>\n",
       "      <th>name</th>\n",
       "      <th>gabf4</th>\n",
       "      <th>gabf7</th>\n",
       "      <th>gabf10</th>\n",
       "      <th>gabf13</th>\n",
       "      <th>gabf16</th>\n",
       "      <th>gabf22</th>\n",
       "      <th>gabf25</th>\n",
       "      <th>gabf28</th>\n",
       "      <th>gabf31</th>\n",
       "      <th>...</th>\n",
       "      <th>gabf112</th>\n",
       "      <th>gabf115</th>\n",
       "      <th>gabf118</th>\n",
       "      <th>gabf121</th>\n",
       "      <th>gabf124</th>\n",
       "      <th>gabf130</th>\n",
       "      <th>gabf133</th>\n",
       "      <th>gabf136</th>\n",
       "      <th>gabf139</th>\n",
       "      <th>gabf142</th>\n",
       "    </tr>\n",
       "  </thead>\n",
       "  <tbody>\n",
       "    <tr>\n",
       "      <th>0</th>\n",
       "      <td>BS.050170 - IM-0003-0001-0001</td>\n",
       "      <td>1.520516e-16</td>\n",
       "      <td>1.216413e-16</td>\n",
       "      <td>-2.128723e-16</td>\n",
       "      <td>1.911506e-16</td>\n",
       "      <td>1.390186e-16</td>\n",
       "      <td>-4.631058e-15</td>\n",
       "      <td>-1.644330e-14</td>\n",
       "      <td>1.737733e-16</td>\n",
       "      <td>9.991965e-17</td>\n",
       "      <td>...</td>\n",
       "      <td>1.086083e-16</td>\n",
       "      <td>8.514892e-16</td>\n",
       "      <td>-4.344333e-18</td>\n",
       "      <td>3.475466e-17</td>\n",
       "      <td>-5.647632e-17</td>\n",
       "      <td>1.559615e-15</td>\n",
       "      <td>-3.649239e-15</td>\n",
       "      <td>-8.688665e-17</td>\n",
       "      <td>1.477073e-16</td>\n",
       "      <td>7.385365e-17</td>\n",
       "    </tr>\n",
       "    <tr>\n",
       "      <th>1</th>\n",
       "      <td>BS.050170 - IM-0003-0002-0001</td>\n",
       "      <td>7.218212e-17</td>\n",
       "      <td>9.624283e-18</td>\n",
       "      <td>-1.443642e-16</td>\n",
       "      <td>-4.812141e-17</td>\n",
       "      <td>2.887285e-17</td>\n",
       "      <td>4.124005e-15</td>\n",
       "      <td>-1.692911e-14</td>\n",
       "      <td>9.624283e-17</td>\n",
       "      <td>5.293355e-17</td>\n",
       "      <td>...</td>\n",
       "      <td>6.255784e-17</td>\n",
       "      <td>3.281880e-15</td>\n",
       "      <td>2.117342e-16</td>\n",
       "      <td>8.661854e-17</td>\n",
       "      <td>4.812141e-17</td>\n",
       "      <td>1.655377e-15</td>\n",
       "      <td>-3.719785e-15</td>\n",
       "      <td>3.368499e-17</td>\n",
       "      <td>9.624283e-17</td>\n",
       "      <td>1.154914e-16</td>\n",
       "    </tr>\n",
       "    <tr>\n",
       "      <th>2</th>\n",
       "      <td>BS.050170 - IM-0003-0003-0001</td>\n",
       "      <td>7.699426e-17</td>\n",
       "      <td>2.839163e-16</td>\n",
       "      <td>1.299278e-16</td>\n",
       "      <td>0.000000e+00</td>\n",
       "      <td>-3.368499e-17</td>\n",
       "      <td>7.795669e-16</td>\n",
       "      <td>-7.372200e-15</td>\n",
       "      <td>9.624283e-17</td>\n",
       "      <td>-4.812141e-18</td>\n",
       "      <td>...</td>\n",
       "      <td>1.924857e-17</td>\n",
       "      <td>1.003331e-14</td>\n",
       "      <td>-1.299278e-16</td>\n",
       "      <td>4.330927e-17</td>\n",
       "      <td>1.058671e-16</td>\n",
       "      <td>-6.111419e-16</td>\n",
       "      <td>1.207847e-14</td>\n",
       "      <td>-2.887285e-17</td>\n",
       "      <td>4.812141e-18</td>\n",
       "      <td>4.812141e-17</td>\n",
       "    </tr>\n",
       "    <tr>\n",
       "      <th>3</th>\n",
       "      <td>BS.050170 - IM-0003-0004-0001</td>\n",
       "      <td>-1.924857e-17</td>\n",
       "      <td>-8.661854e-17</td>\n",
       "      <td>-1.780492e-16</td>\n",
       "      <td>-2.406071e-17</td>\n",
       "      <td>0.000000e+00</td>\n",
       "      <td>-5.630205e-16</td>\n",
       "      <td>-1.104868e-14</td>\n",
       "      <td>-7.218212e-17</td>\n",
       "      <td>3.849713e-17</td>\n",
       "      <td>...</td>\n",
       "      <td>-5.293355e-17</td>\n",
       "      <td>1.005738e-14</td>\n",
       "      <td>3.849713e-17</td>\n",
       "      <td>-9.624283e-18</td>\n",
       "      <td>-1.395521e-16</td>\n",
       "      <td>-1.785304e-15</td>\n",
       "      <td>1.824283e-14</td>\n",
       "      <td>-6.736998e-17</td>\n",
       "      <td>6.736998e-17</td>\n",
       "      <td>9.624283e-18</td>\n",
       "    </tr>\n",
       "    <tr>\n",
       "      <th>4</th>\n",
       "      <td>BS.050170 - IM-0003-0005-0001</td>\n",
       "      <td>-7.268689e-17</td>\n",
       "      <td>-1.317450e-16</td>\n",
       "      <td>-1.044874e-16</td>\n",
       "      <td>1.590026e-17</td>\n",
       "      <td>-1.362879e-16</td>\n",
       "      <td>2.952905e-17</td>\n",
       "      <td>-1.581394e-14</td>\n",
       "      <td>-1.022159e-16</td>\n",
       "      <td>5.905810e-17</td>\n",
       "      <td>...</td>\n",
       "      <td>3.407198e-17</td>\n",
       "      <td>-2.278280e-15</td>\n",
       "      <td>2.952905e-17</td>\n",
       "      <td>-3.180051e-17</td>\n",
       "      <td>6.360103e-17</td>\n",
       "      <td>1.635455e-16</td>\n",
       "      <td>5.415173e-15</td>\n",
       "      <td>8.631568e-17</td>\n",
       "      <td>0.000000e+00</td>\n",
       "      <td>1.590026e-17</td>\n",
       "    </tr>\n",
       "  </tbody>\n",
       "</table>\n",
       "<p>5 rows × 42 columns</p>\n",
       "</div>"
      ],
      "text/plain": [
       "                            name         gabf4         gabf7        gabf10  \\\n",
       "0  BS.050170 - IM-0003-0001-0001  1.520516e-16  1.216413e-16 -2.128723e-16   \n",
       "1  BS.050170 - IM-0003-0002-0001  7.218212e-17  9.624283e-18 -1.443642e-16   \n",
       "2  BS.050170 - IM-0003-0003-0001  7.699426e-17  2.839163e-16  1.299278e-16   \n",
       "3  BS.050170 - IM-0003-0004-0001 -1.924857e-17 -8.661854e-17 -1.780492e-16   \n",
       "4  BS.050170 - IM-0003-0005-0001 -7.268689e-17 -1.317450e-16 -1.044874e-16   \n",
       "\n",
       "         gabf13        gabf16        gabf22        gabf25        gabf28  \\\n",
       "0  1.911506e-16  1.390186e-16 -4.631058e-15 -1.644330e-14  1.737733e-16   \n",
       "1 -4.812141e-17  2.887285e-17  4.124005e-15 -1.692911e-14  9.624283e-17   \n",
       "2  0.000000e+00 -3.368499e-17  7.795669e-16 -7.372200e-15  9.624283e-17   \n",
       "3 -2.406071e-17  0.000000e+00 -5.630205e-16 -1.104868e-14 -7.218212e-17   \n",
       "4  1.590026e-17 -1.362879e-16  2.952905e-17 -1.581394e-14 -1.022159e-16   \n",
       "\n",
       "         gabf31      ...            gabf112       gabf115       gabf118  \\\n",
       "0  9.991965e-17      ...       1.086083e-16  8.514892e-16 -4.344333e-18   \n",
       "1  5.293355e-17      ...       6.255784e-17  3.281880e-15  2.117342e-16   \n",
       "2 -4.812141e-18      ...       1.924857e-17  1.003331e-14 -1.299278e-16   \n",
       "3  3.849713e-17      ...      -5.293355e-17  1.005738e-14  3.849713e-17   \n",
       "4  5.905810e-17      ...       3.407198e-17 -2.278280e-15  2.952905e-17   \n",
       "\n",
       "        gabf121       gabf124       gabf130       gabf133       gabf136  \\\n",
       "0  3.475466e-17 -5.647632e-17  1.559615e-15 -3.649239e-15 -8.688665e-17   \n",
       "1  8.661854e-17  4.812141e-17  1.655377e-15 -3.719785e-15  3.368499e-17   \n",
       "2  4.330927e-17  1.058671e-16 -6.111419e-16  1.207847e-14 -2.887285e-17   \n",
       "3 -9.624283e-18 -1.395521e-16 -1.785304e-15  1.824283e-14 -6.736998e-17   \n",
       "4 -3.180051e-17  6.360103e-17  1.635455e-16  5.415173e-15  8.631568e-17   \n",
       "\n",
       "        gabf139       gabf142  \n",
       "0  1.477073e-16  7.385365e-17  \n",
       "1  9.624283e-17  1.154914e-16  \n",
       "2  4.812141e-18  4.812141e-17  \n",
       "3  6.736998e-17  9.624283e-18  \n",
       "4  0.000000e+00  1.590026e-17  \n",
       "\n",
       "[5 rows x 42 columns]"
      ]
     },
     "execution_count": 144,
     "metadata": {},
     "output_type": "execute_result"
    }
   ],
   "source": [
    "X_new.head()"
   ]
  },
  {
   "cell_type": "code",
   "execution_count": 145,
   "metadata": {},
   "outputs": [],
   "source": [
    "X_new.to_csv(\"F://dimension_reduced_features.csv\")\n",
    "data =pd.read_csv(\"F://dimension_reduced_features.csv\",index_col=0)\n",
    "data.head(2)\n",
    "data =data.sort_values([\"name\"],ascending=1)"
   ]
  },
  {
   "cell_type": "code",
   "execution_count": 146,
   "metadata": {},
   "outputs": [
    {
     "data": {
      "text/html": [
       "<div>\n",
       "<style scoped>\n",
       "    .dataframe tbody tr th:only-of-type {\n",
       "        vertical-align: middle;\n",
       "    }\n",
       "\n",
       "    .dataframe tbody tr th {\n",
       "        vertical-align: top;\n",
       "    }\n",
       "\n",
       "    .dataframe thead th {\n",
       "        text-align: right;\n",
       "    }\n",
       "</style>\n",
       "<table border=\"1\" class=\"dataframe\">\n",
       "  <thead>\n",
       "    <tr style=\"text-align: right;\">\n",
       "      <th></th>\n",
       "      <th>folder</th>\n",
       "      <th>no. of Images</th>\n",
       "      <th>GT</th>\n",
       "    </tr>\n",
       "  </thead>\n",
       "  <tbody>\n",
       "    <tr>\n",
       "      <th>34</th>\n",
       "      <td>SE.231070</td>\n",
       "      <td>24</td>\n",
       "      <td>0</td>\n",
       "    </tr>\n",
       "    <tr>\n",
       "      <th>35</th>\n",
       "      <td>SE.261168</td>\n",
       "      <td>20</td>\n",
       "      <td>0</td>\n",
       "    </tr>\n",
       "    <tr>\n",
       "      <th>36</th>\n",
       "      <td>SM.020690</td>\n",
       "      <td>20</td>\n",
       "      <td>0</td>\n",
       "    </tr>\n",
       "    <tr>\n",
       "      <th>37</th>\n",
       "      <td>SS.111270</td>\n",
       "      <td>22</td>\n",
       "      <td>0</td>\n",
       "    </tr>\n",
       "    <tr>\n",
       "      <th>38</th>\n",
       "      <td>VS.241067</td>\n",
       "      <td>20</td>\n",
       "      <td>1</td>\n",
       "    </tr>\n",
       "  </tbody>\n",
       "</table>\n",
       "</div>"
      ],
      "text/plain": [
       "       folder  no. of Images  GT\n",
       "34  SE.231070             24   0\n",
       "35  SE.261168             20   0\n",
       "36  SM.020690             20   0\n",
       "37  SS.111270             22   0\n",
       "38  VS.241067             20   1"
      ]
     },
     "execution_count": 146,
     "metadata": {},
     "output_type": "execute_result"
    }
   ],
   "source": [
    "count_img=pd.read_csv('F://count_img.csv',index_col=0)\n",
    "count_img.tail(5)"
   ]
  },
  {
   "cell_type": "code",
   "execution_count": 147,
   "metadata": {},
   "outputs": [],
   "source": [
    "y=[]\n",
    "for k in count_img.index:\n",
    "    number= count_img.loc[k,[\"no. of Images\"]].values[0]\n",
    "    GT = count_img.loc[k,[\"GT\"]].values[0]\n",
    "    for x in range(0,number):\n",
    "        y.append(GT)\n",
    "y=np.array(y)"
   ]
  },
  {
   "cell_type": "code",
   "execution_count": 148,
   "metadata": {},
   "outputs": [],
   "source": [
    "data[\"GT\"]=y\n"
   ]
  },
  {
   "cell_type": "code",
   "execution_count": 149,
   "metadata": {},
   "outputs": [],
   "source": [
    "X=data.drop([\"name\",\"GT\"],axis=1)"
   ]
  },
  {
   "cell_type": "code",
   "execution_count": 150,
   "metadata": {},
   "outputs": [
    {
     "name": "stdout",
     "output_type": "stream",
     "text": [
      "shape of X : (824, 41)\n",
      "shape of y : (824,)\n"
     ]
    }
   ],
   "source": [
    "print(\"shape of X :\", X.shape)\n",
    "print(\"shape of y :\",y.shape)"
   ]
  },
  {
   "cell_type": "code",
   "execution_count": 192,
   "metadata": {},
   "outputs": [
    {
     "name": "stdout",
     "output_type": "stream",
     "text": [
      "(659, 41)\n"
     ]
    }
   ],
   "source": [
    "from sklearn.model_selection import train_test_split\n",
    "\n",
    "X_train, X_test, y_train, y_test = train_test_split(X, y, test_size=0.2, random_state=42)  \n",
    "print(X_train.shape)"
   ]
  },
  {
   "cell_type": "code",
   "execution_count": 166,
   "metadata": {},
   "outputs": [],
   "source": [
    "from sklearn.preprocessing import StandardScaler\n",
    "\n",
    "sc = StandardScaler()  \n",
    "X_train = sc.fit_transform(X_train)  \n",
    "X_test = sc.transform(X_test) "
   ]
  },
  {
   "cell_type": "code",
   "execution_count": 193,
   "metadata": {},
   "outputs": [
    {
     "name": "stdout",
     "output_type": "stream",
     "text": [
      "(659, 41)\n"
     ]
    }
   ],
   "source": [
    "print(X_train.shape)"
   ]
  },
  {
   "cell_type": "code",
   "execution_count": 214,
   "metadata": {},
   "outputs": [
    {
     "data": {
      "text/plain": [
       "552"
      ]
     },
     "execution_count": 214,
     "metadata": {},
     "output_type": "execute_result"
    }
   ],
   "source": [
    "len(y_test[y_test==1])\n",
    "len(y_train[y_train==0])"
   ]
  },
  {
   "cell_type": "code",
   "execution_count": 217,
   "metadata": {},
   "outputs": [
    {
     "name": "stdout",
     "output_type": "stream",
     "text": [
      "testing Score : 0.7515151515151515\n",
      "training score: 0.8376327769347496\n"
     ]
    }
   ],
   "source": [
    "from sklearn import svm\n",
    "SVC =svm.SVC(C=1,kernel=\"linear\",gamma='scale')\n",
    "SVC.fit(X_train,y_train)\n",
    "print(\"testing Score :\" ,SVC.score(X_test,y_test))\n",
    "print(\"training score:\",SVC.score(X_train,y_train))"
   ]
  },
  {
   "cell_type": "code",
   "execution_count": 199,
   "metadata": {},
   "outputs": [],
   "source": [
    "y_pred=SVC.predict(X_test)\n",
    "from sklearn.metrics import confusion_matrix"
   ]
  },
  {
   "cell_type": "code",
   "execution_count": 203,
   "metadata": {},
   "outputs": [
    {
     "name": "stdout",
     "output_type": "stream",
     "text": [
      "Confusion matrix, without normalization\n",
      "[[124   0]\n",
      " [ 41   0]]\n",
      "Normalized confusion matrix\n",
      "[[1. 0.]\n",
      " [1. 0.]]\n"
     ]
    },
    {
     "data": {
      "image/png": "[encoded data removed]",
      "text/plain": [
       "<Figure size 432x288 with 2 Axes>"
      ]
     },
     "metadata": {
      "needs_background": "light"
     },
     "output_type": "display_data"
    },
    {
     "data": {
      "image/png": "[encoded data removed]",
      "text/plain": [
       "<Figure size 432x288 with 2 Axes>"
      ]
     },
     "metadata": {
      "needs_background": "light"
     },
     "output_type": "display_data"
    }
   ],
   "source": [
    "def plot_confusion_matrix(cm, classes,\n",
    "                          normalize=False,\n",
    "                          title='Confusion matrix',\n",
    "                          cmap=plt.cm.Blues):\n",
    "    \"\"\"\n",
    "    This function prints and plots the confusion matrix.\n",
    "    Normalization can be applied by setting `normalize=True`.\n",
    "    \"\"\"\n",
    "    if normalize:\n",
    "        cm = cm.astype('float') / cm.sum(axis=1)[:, np.newaxis]\n",
    "        print(\"Normalized confusion matrix\")\n",
    "    else:\n",
    "        print('Confusion matrix, without normalization')\n",
    "\n",
    "    print(cm)\n",
    "\n",
    "    plt.imshow(cm, interpolation='nearest', cmap=cmap)\n",
    "    plt.title(title)\n",
    "    plt.colorbar()\n",
    "    tick_marks = np.arange(len(classes))\n",
    "    plt.xticks(tick_marks, classes, rotation=45)\n",
    "    plt.yticks(tick_marks, classes)\n",
    "\n",
    "    fmt = '.2f' if normalize else 'd'\n",
    "    thresh = cm.max() / 2.\n",
    "    for i, j in itertools.product(range(cm.shape[0]), range(cm.shape[1])):\n",
    "        plt.text(j, i, format(cm[i, j], fmt),\n",
    "                 horizontalalignment=\"center\",\n",
    "                 color=\"white\" if cm[i, j] > thresh else \"black\")\n",
    "\n",
    "    plt.ylabel('True label')\n",
    "    plt.xlabel('Predicted label')\n",
    "    plt.tight_layout()\n",
    "\n",
    "\n",
    "# Compute confusion matrix\n",
    "class_names=[0,1]\n",
    "cnf_matrix = confusion_matrix(y_test, y_pred)\n",
    "np.set_printoptions(precision=2)\n",
    "\n",
    "# Plot non-normalized confusion matrix\n",
    "plt.figure()\n",
    "plot_confusion_matrix(cnf_matrix, classes=class_names,\n",
    "                      title='Confusion matrix, without normalization')\n",
    "\n",
    "# Plot normalized confusion matrix\n",
    "plt.figure()\n",
    "plot_confusion_matrix(cnf_matrix, classes=class_names, normalize=True,\n",
    "                      title='Normalized confusion matrix')\n",
    "\n",
    "plt.show()"
   ]
  },
  {
   "cell_type": "code",
   "execution_count": 205,
   "metadata": {},
   "outputs": [
    {
     "name": "stdout",
     "output_type": "stream",
     "text": [
      "0\n"
     ]
    }
   ],
   "source": [
    "for x, value in enumerate(y_pred):\n",
    "    if(x==y_test[x]):\n",
    "        print(x)"
   ]
  },
  {
   "cell_type": "code",
   "execution_count": 207,
   "metadata": {},
   "outputs": [
    {
     "data": {
      "text/plain": [
       "array([0, 0, 0, 0, 0, 0, 1, 0, 1, 0, 1, 0, 0, 1, 0, 1, 1, 0, 1, 0, 0, 0,\n",
       "       0, 0, 0, 0, 1, 0, 1, 0, 1, 1, 0, 0, 0, 0, 0, 0, 0, 0, 1, 0, 0, 0,\n",
       "       1, 0, 0, 1, 0, 0, 0, 0, 0, 0, 0, 1, 0, 0, 0, 1, 1, 0, 0, 1, 0, 0,\n",
       "       0, 0, 0, 0, 0, 0, 0, 0, 0, 1, 1, 1, 1, 0, 0, 0, 0, 0, 0, 0, 0, 1,\n",
       "       1, 0, 0, 1, 0, 0, 0, 0, 0, 0, 0, 0, 0, 0, 0, 0, 0, 0, 0, 0, 0, 0,\n",
       "       0, 0, 0, 0, 0, 0, 0, 0, 0, 0, 0, 0, 0, 0, 0, 0, 1, 0, 0, 1, 0, 1,\n",
       "       0, 1, 0, 1, 0, 1, 1, 0, 0, 0, 1, 1, 0, 0, 1, 0, 0, 0, 1, 0, 0, 1,\n",
       "       0, 1, 0, 1, 1, 1, 0, 0, 0, 0, 0], dtype=int64)"
      ]
     },
     "execution_count": 207,
     "metadata": {},
     "output_type": "execute_result"
    }
   ],
   "source": [
    "y_test"
   ]
  },
  {
   "cell_type": "code",
   "execution_count": 202,
   "metadata": {},
   "outputs": [
    {
     "data": {
      "text/plain": [
       "array(['setosa', 'versicolor', 'virginica'], dtype='<U10')"
      ]
     },
     "execution_count": 202,
     "metadata": {},
     "output_type": "execute_result"
    }
   ],
   "source": [
    "import itertools\n",
    "import numpy as np\n",
    "import matplotlib.pyplot as plt\n",
    "\n",
    "from sklearn import svm, datasets\n",
    "from sklearn.model_selection import train_test_split\n",
    "from sklearn.metrics import confusion_matrix\n",
    "\n",
    "# import some data to play with\n",
    "iris = datasets.load_iris()\n",
    "X = iris.data\n",
    "y = iris.target\n",
    "class_names = iris.target_names\n",
    "class_names"
   ]
  },
  {
   "cell_type": "code",
   "execution_count": 178,
   "metadata": {},
   "outputs": [],
   "source": [
    "from sklearn.feature_selection import SelectKBest, f_regression\n",
    "\n",
    "sel=SelectKBest(f_regression, k=2)\n",
    "X_train=sel.fit_transform(X_train, y_train)\n",
    "X_test=sel.transform(X_test)"
   ]
  },
  {
   "cell_type": "code",
   "execution_count": 179,
   "metadata": {},
   "outputs": [
    {
     "data": {
      "text/plain": [
       "(659, 2)"
      ]
     },
     "execution_count": 179,
     "metadata": {},
     "output_type": "execute_result"
    }
   ],
   "source": [
    "X_train.shape"
   ]
  },
  {
   "cell_type": "code",
   "execution_count": 163,
   "metadata": {},
   "outputs": [
    {
     "data": {
      "image/png": "[encoded data removed]",
      "text/plain": [
       "<Figure size 432x288 with 1 Axes>"
      ]
     },
     "metadata": {
      "needs_background": "light"
     },
     "output_type": "display_data"
    }
   ],
   "source": [
    "for x in range(len(X_train)):\n",
    "    if(y_train[x]==1):\n",
    "        color=\"red\"\n",
    "        \n",
    "    else:\n",
    "        color =\"green\"\n",
    "    plt.scatter(X_train[x][0],X_train[x][1],c=color)"
   ]
  },
  {
   "cell_type": "markdown",
   "metadata": {},
   "source": [
    "# Extracting Kaze features"
   ]
  },
  {
   "cell_type": "code",
   "execution_count": null,
   "metadata": {},
   "outputs": [],
   "source": []
  },
  {
   "cell_type": "code",
   "execution_count": 303,
   "metadata": {},
   "outputs": [
    {
     "ename": "SyntaxError",
     "evalue": "'break' outside loop (cell_name, line 9)",
     "output_type": "error",
     "traceback": [
      "\u001b[1;36m  File \u001b[1;32m\"cell_name\"\u001b[1;36m, line \u001b[1;32m9\u001b[0m\n\u001b[1;31mSyntaxError\u001b[0m\u001b[1;31m:\u001b[0m 'break' outside loop\n"
     ]
    }
   ],
   "source": [
    "# Feature extractor\n",
    "binim=\"F://newdata/1  T2W-FLAIR - 301 binary\"\n",
    "def extract_features(image, vector_size=32):\n",
    "    #image = imread(image_path, mode=\"L\")\n",
    "    plt.imshow(image)\n",
    "    try:\n",
    "        # Using KAZE, cause SIFT, ORB and other was moved to additional module\n",
    "        # which is adding addtional pain during install\n",
    "        alg = cv2.KAZE_create()\n",
    "        # Dinding image keypoints\n",
    "        kps = alg.detect(image)\n",
    "        # Getting first 32 of them. \n",
    "        # Number of keypoints is varies depend on image size and color pallet\n",
    "        # Sorting them based on keypoint response value(bigger is better)\n",
    "        kps = sorted(kps, key=lambda x: -x.response)[:vector_size]\n",
    "        # computing descriptors vector\n",
    "        kps, dsc = alg.compute(image, kps)\n",
    "        # Flatten all of them in one big vector - our feature vector\n",
    "        dsc = dsc.flatten()\n",
    "        # Making descriptor of same size\n",
    "        # Descriptor vector size is 64\n",
    "        needed_size = (vector_size * 64)\n",
    "        if dsc.size < needed_size:\n",
    "            # if we have less the 32 descriptors then just adding zeros at the\n",
    "            # end of our feature vector\n",
    "            dsc = np.concatenate([dsc, np.zeros(needed_size - dsc.size)])\n",
    "    except cv2.error as e:\n",
    "        print ('Error: ', e)\n",
    "        return None\n",
    "\n",
    "    return dsc\n",
    "\n",
    "result={}\n",
    "def batch_extractor(images_path):#, pickled_db_path=\"features.pck\"):\n",
    "    for file in os.listdir(images_path):\n",
    "        bin_img=os.path.join(binim,\"binary\"+file)\n",
    "        fileadd=os.path.join(newdir,file)\n",
    "        #images.append(file[0:-4])\n",
    "        cropped_img=crop_image(fileadd,bin_img)\n",
    "        result[file] = extract_features(f)\n",
    "    print(\"Feautures Extracted\")\n",
    "    # saving all our feature vectors in pickled file\n",
    "    #with open(pickled_db_path, 'w') as fp:\n",
    "       # pickle.dump(result, fp)"
   ]
  },
  {
   "cell_type": "code",
   "execution_count": 304,
   "metadata": {},
   "outputs": [
    {
     "name": "stdout",
     "output_type": "stream",
     "text": [
      "Figure(432x288)\n"
     ]
    },
    {
     "ename": "TypeError",
     "evalue": "Image data cannot be converted to float",
     "output_type": "error",
     "traceback": [
      "\u001b[1;31m---------------------------------------------------------------------------\u001b[0m",
      "\u001b[1;31mTypeError\u001b[0m                                 Traceback (most recent call last)",
      "\u001b[1;32m<timed eval>\u001b[0m in \u001b[0;36m<module>\u001b[1;34m\u001b[0m\n",
      "\u001b[1;32m<ipython-input-304-321e415e01cd>\u001b[0m in \u001b[0;36mrun\u001b[1;34m()\u001b[0m\n\u001b[0;32m     10\u001b[0m     \u001b[0msample\u001b[0m \u001b[1;33m=\u001b[0m \u001b[0mrandom\u001b[0m\u001b[1;33m.\u001b[0m\u001b[0msample\u001b[0m\u001b[1;33m(\u001b[0m\u001b[0mfiles\u001b[0m\u001b[1;33m,\u001b[0m \u001b[1;36m3\u001b[0m\u001b[1;33m)\u001b[0m\u001b[1;33m\u001b[0m\u001b[0m\n\u001b[0;32m     11\u001b[0m \u001b[1;33m\u001b[0m\u001b[0m\n\u001b[1;32m---> 12\u001b[1;33m     \u001b[0mbatch_extractor\u001b[0m\u001b[1;33m(\u001b[0m\u001b[0mimages_path\u001b[0m\u001b[1;33m)\u001b[0m\u001b[1;33m\u001b[0m\u001b[0m\n\u001b[0m\u001b[0;32m     13\u001b[0m \u001b[0mget_ipython\u001b[0m\u001b[1;33m(\u001b[0m\u001b[1;33m)\u001b[0m\u001b[1;33m.\u001b[0m\u001b[0mrun_line_magic\u001b[0m\u001b[1;33m(\u001b[0m\u001b[1;34m'time'\u001b[0m\u001b[1;33m,\u001b[0m \u001b[1;34m'run()'\u001b[0m\u001b[1;33m)\u001b[0m\u001b[1;33m\u001b[0m\u001b[0m\n",
      "\u001b[1;32m<ipython-input-300-d0b6847a633a>\u001b[0m in \u001b[0;36mbatch_extractor\u001b[1;34m(images_path)\u001b[0m\n\u001b[0;32m     39\u001b[0m         \u001b[1;31m#images.append(file[0:-4])\u001b[0m\u001b[1;33m\u001b[0m\u001b[1;33m\u001b[0m\u001b[0m\n\u001b[0;32m     40\u001b[0m         \u001b[0mcropped_img\u001b[0m\u001b[1;33m=\u001b[0m\u001b[0mcrop_image\u001b[0m\u001b[1;33m(\u001b[0m\u001b[0mfileadd\u001b[0m\u001b[1;33m,\u001b[0m\u001b[0mbin_img\u001b[0m\u001b[1;33m)\u001b[0m\u001b[1;33m\u001b[0m\u001b[0m\n\u001b[1;32m---> 41\u001b[1;33m         \u001b[0mresult\u001b[0m\u001b[1;33m[\u001b[0m\u001b[0mfile\u001b[0m\u001b[1;33m]\u001b[0m \u001b[1;33m=\u001b[0m \u001b[0mextract_features\u001b[0m\u001b[1;33m(\u001b[0m\u001b[0mf\u001b[0m\u001b[1;33m)\u001b[0m\u001b[1;33m\u001b[0m\u001b[0m\n\u001b[0m\u001b[0;32m     42\u001b[0m     \u001b[0mprint\u001b[0m\u001b[1;33m(\u001b[0m\u001b[1;34m\"Feautures Extracted\"\u001b[0m\u001b[1;33m)\u001b[0m\u001b[1;33m\u001b[0m\u001b[0m\n\u001b[0;32m     43\u001b[0m     \u001b[1;31m# saving all our feature vectors in pickled file\u001b[0m\u001b[1;33m\u001b[0m\u001b[1;33m\u001b[0m\u001b[0m\n",
      "\u001b[1;32m<ipython-input-300-d0b6847a633a>\u001b[0m in \u001b[0;36mextract_features\u001b[1;34m(image, vector_size)\u001b[0m\n\u001b[0;32m      4\u001b[0m     \u001b[1;31m#image = imread(image_path, mode=\"L\")\u001b[0m\u001b[1;33m\u001b[0m\u001b[1;33m\u001b[0m\u001b[0m\n\u001b[0;32m      5\u001b[0m     \u001b[0mprint\u001b[0m\u001b[1;33m(\u001b[0m\u001b[0mimage\u001b[0m\u001b[1;33m)\u001b[0m\u001b[1;33m\u001b[0m\u001b[0m\n\u001b[1;32m----> 6\u001b[1;33m     \u001b[0mplt\u001b[0m\u001b[1;33m.\u001b[0m\u001b[0mimshow\u001b[0m\u001b[1;33m(\u001b[0m\u001b[0mimage\u001b[0m\u001b[1;33m)\u001b[0m\u001b[1;33m\u001b[0m\u001b[0m\n\u001b[0m\u001b[0;32m      7\u001b[0m     \u001b[1;32mtry\u001b[0m\u001b[1;33m:\u001b[0m\u001b[1;33m\u001b[0m\u001b[0m\n\u001b[0;32m      8\u001b[0m         \u001b[1;31m# Using KAZE, cause SIFT, ORB and other was moved to additional module\u001b[0m\u001b[1;33m\u001b[0m\u001b[1;33m\u001b[0m\u001b[0m\n",
      "\u001b[1;32m~\\Anaconda3\\lib\\site-packages\\matplotlib\\pyplot.py\u001b[0m in \u001b[0;36mimshow\u001b[1;34m(X, cmap, norm, aspect, interpolation, alpha, vmin, vmax, origin, extent, shape, filternorm, filterrad, imlim, resample, url, hold, data, **kwargs)\u001b[0m\n\u001b[0;32m   3203\u001b[0m                         \u001b[0mfilternorm\u001b[0m\u001b[1;33m=\u001b[0m\u001b[0mfilternorm\u001b[0m\u001b[1;33m,\u001b[0m \u001b[0mfilterrad\u001b[0m\u001b[1;33m=\u001b[0m\u001b[0mfilterrad\u001b[0m\u001b[1;33m,\u001b[0m\u001b[1;33m\u001b[0m\u001b[0m\n\u001b[0;32m   3204\u001b[0m                         \u001b[0mimlim\u001b[0m\u001b[1;33m=\u001b[0m\u001b[0mimlim\u001b[0m\u001b[1;33m,\u001b[0m \u001b[0mresample\u001b[0m\u001b[1;33m=\u001b[0m\u001b[0mresample\u001b[0m\u001b[1;33m,\u001b[0m \u001b[0murl\u001b[0m\u001b[1;33m=\u001b[0m\u001b[0murl\u001b[0m\u001b[1;33m,\u001b[0m \u001b[0mdata\u001b[0m\u001b[1;33m=\u001b[0m\u001b[0mdata\u001b[0m\u001b[1;33m,\u001b[0m\u001b[1;33m\u001b[0m\u001b[0m\n\u001b[1;32m-> 3205\u001b[1;33m                         **kwargs)\n\u001b[0m\u001b[0;32m   3206\u001b[0m     \u001b[1;32mfinally\u001b[0m\u001b[1;33m:\u001b[0m\u001b[1;33m\u001b[0m\u001b[0m\n\u001b[0;32m   3207\u001b[0m         \u001b[0max\u001b[0m\u001b[1;33m.\u001b[0m\u001b[0m_hold\u001b[0m \u001b[1;33m=\u001b[0m \u001b[0mwashold\u001b[0m\u001b[1;33m\u001b[0m\u001b[0m\n",
      "\u001b[1;32m~\\Anaconda3\\lib\\site-packages\\matplotlib\\__init__.py\u001b[0m in \u001b[0;36minner\u001b[1;34m(ax, *args, **kwargs)\u001b[0m\n\u001b[0;32m   1853\u001b[0m                         \u001b[1;34m\"the Matplotlib list!)\"\u001b[0m \u001b[1;33m%\u001b[0m \u001b[1;33m(\u001b[0m\u001b[0mlabel_namer\u001b[0m\u001b[1;33m,\u001b[0m \u001b[0mfunc\u001b[0m\u001b[1;33m.\u001b[0m\u001b[0m__name__\u001b[0m\u001b[1;33m)\u001b[0m\u001b[1;33m,\u001b[0m\u001b[1;33m\u001b[0m\u001b[0m\n\u001b[0;32m   1854\u001b[0m                         RuntimeWarning, stacklevel=2)\n\u001b[1;32m-> 1855\u001b[1;33m             \u001b[1;32mreturn\u001b[0m \u001b[0mfunc\u001b[0m\u001b[1;33m(\u001b[0m\u001b[0max\u001b[0m\u001b[1;33m,\u001b[0m \u001b[1;33m*\u001b[0m\u001b[0margs\u001b[0m\u001b[1;33m,\u001b[0m \u001b[1;33m**\u001b[0m\u001b[0mkwargs\u001b[0m\u001b[1;33m)\u001b[0m\u001b[1;33m\u001b[0m\u001b[0m\n\u001b[0m\u001b[0;32m   1856\u001b[0m \u001b[1;33m\u001b[0m\u001b[0m\n\u001b[0;32m   1857\u001b[0m         inner.__doc__ = _add_data_doc(inner.__doc__,\n",
      "\u001b[1;32m~\\Anaconda3\\lib\\site-packages\\matplotlib\\axes\\_axes.py\u001b[0m in \u001b[0;36mimshow\u001b[1;34m(self, X, cmap, norm, aspect, interpolation, alpha, vmin, vmax, origin, extent, shape, filternorm, filterrad, imlim, resample, url, **kwargs)\u001b[0m\n\u001b[0;32m   5485\u001b[0m                               resample=resample, **kwargs)\n\u001b[0;32m   5486\u001b[0m \u001b[1;33m\u001b[0m\u001b[0m\n\u001b[1;32m-> 5487\u001b[1;33m         \u001b[0mim\u001b[0m\u001b[1;33m.\u001b[0m\u001b[0mset_data\u001b[0m\u001b[1;33m(\u001b[0m\u001b[0mX\u001b[0m\u001b[1;33m)\u001b[0m\u001b[1;33m\u001b[0m\u001b[0m\n\u001b[0m\u001b[0;32m   5488\u001b[0m         \u001b[0mim\u001b[0m\u001b[1;33m.\u001b[0m\u001b[0mset_alpha\u001b[0m\u001b[1;33m(\u001b[0m\u001b[0malpha\u001b[0m\u001b[1;33m)\u001b[0m\u001b[1;33m\u001b[0m\u001b[0m\n\u001b[0;32m   5489\u001b[0m         \u001b[1;32mif\u001b[0m \u001b[0mim\u001b[0m\u001b[1;33m.\u001b[0m\u001b[0mget_clip_path\u001b[0m\u001b[1;33m(\u001b[0m\u001b[1;33m)\u001b[0m \u001b[1;32mis\u001b[0m \u001b[1;32mNone\u001b[0m\u001b[1;33m:\u001b[0m\u001b[1;33m\u001b[0m\u001b[0m\n",
      "\u001b[1;32m~\\Anaconda3\\lib\\site-packages\\matplotlib\\image.py\u001b[0m in \u001b[0;36mset_data\u001b[1;34m(self, A)\u001b[0m\n\u001b[0;32m    647\u001b[0m         if (self._A.dtype != np.uint8 and\n\u001b[0;32m    648\u001b[0m                 not np.can_cast(self._A.dtype, float, \"same_kind\")):\n\u001b[1;32m--> 649\u001b[1;33m             \u001b[1;32mraise\u001b[0m \u001b[0mTypeError\u001b[0m\u001b[1;33m(\u001b[0m\u001b[1;34m\"Image data cannot be converted to float\"\u001b[0m\u001b[1;33m)\u001b[0m\u001b[1;33m\u001b[0m\u001b[0m\n\u001b[0m\u001b[0;32m    650\u001b[0m \u001b[1;33m\u001b[0m\u001b[0m\n\u001b[0;32m    651\u001b[0m         if not (self._A.ndim == 2\n",
      "\u001b[1;31mTypeError\u001b[0m: Image data cannot be converted to float"
     ]
    },
    {
     "data": {
      "image/png": "[encoded data removed]",
      "text/plain": [
       "<Figure size 432x288 with 1 Axes>"
      ]
     },
     "metadata": {
      "needs_background": "light"
     },
     "output_type": "display_data"
    }
   ],
   "source": [
    "def show_img(path):\n",
    "    img = imread(path, mode=\"RGB\")\n",
    "    plt.imshow(img)\n",
    "    plt.show()\n",
    "    \n",
    "def run():\n",
    "    images_path =newdir\n",
    "    files = [os.path.join(images_path, p) for p in sorted(os.listdir(images_path))]\n",
    "    # getting 3 random images \n",
    "    sample = random.sample(files, 3)\n",
    "    \n",
    "    batch_extractor(images_path)\n",
    "%time run()"
   ]
  },
  {
   "cell_type": "code",
   "execution_count": 284,
   "metadata": {},
   "outputs": [
    {
     "data": {
      "text/plain": [
       "'F://newdata//301ss enhanced_contstretch'"
      ]
     },
     "execution_count": 284,
     "metadata": {},
     "output_type": "execute_result"
    }
   ],
   "source": [
    "newdir\n",
    "name = f.split('/')[-1].lower()"
   ]
  },
  {
   "cell_type": "code",
   "execution_count": 281,
   "metadata": {},
   "outputs": [
    {
     "name": "stdout",
     "output_type": "stream",
     "text": [
      "(0,)\n",
      "(0,)\n"
     ]
    }
   ],
   "source": [
    "names=[]\n",
    "features=[]\n",
    "for x in result:\n",
    "    name=x[15:]\n",
    "    feature=result[x]\n",
    "    names.append(name[:-4])\n",
    "    features.append(feature)\n",
    "    \n",
    "names=np.array(names)\n",
    "features=np.array(features)\n",
    "print(names.shape)\n",
    "print(features.shape)\n"
   ]
  },
  {
   "cell_type": "code",
   "execution_count": 282,
   "metadata": {},
   "outputs": [
    {
     "ename": "IndexError",
     "evalue": "too many indices for array",
     "output_type": "error",
     "traceback": [
      "\u001b[1;31m---------------------------------------------------------------------------\u001b[0m",
      "\u001b[1;31mIndexError\u001b[0m                                Traceback (most recent call last)",
      "\u001b[1;32m<ipython-input-282-c9792fa08a83>\u001b[0m in \u001b[0;36m<module>\u001b[1;34m\u001b[0m\n\u001b[0;32m      3\u001b[0m \u001b[0mdata\u001b[0m\u001b[1;33m[\u001b[0m\u001b[1;34m\"Image\"\u001b[0m\u001b[1;33m]\u001b[0m\u001b[1;33m=\u001b[0m\u001b[0mnames\u001b[0m\u001b[1;33m\u001b[0m\u001b[0m\n\u001b[0;32m      4\u001b[0m \u001b[1;32mfor\u001b[0m \u001b[0mx\u001b[0m \u001b[1;32min\u001b[0m \u001b[0mrange\u001b[0m\u001b[1;33m(\u001b[0m\u001b[1;36m2048\u001b[0m\u001b[1;33m)\u001b[0m\u001b[1;33m:\u001b[0m\u001b[1;33m\u001b[0m\u001b[0m\n\u001b[1;32m----> 5\u001b[1;33m     \u001b[0mfeat\u001b[0m\u001b[1;33m=\u001b[0m \u001b[0mfeatures\u001b[0m\u001b[1;33m[\u001b[0m\u001b[1;33m:\u001b[0m\u001b[1;33m,\u001b[0m\u001b[0mx\u001b[0m\u001b[1;33m]\u001b[0m\u001b[1;33m\u001b[0m\u001b[0m\n\u001b[0m\u001b[0;32m      6\u001b[0m     \u001b[0mdata\u001b[0m\u001b[1;33m[\u001b[0m\u001b[1;34m\"feature \"\u001b[0m\u001b[1;33m+\u001b[0m\u001b[0mstr\u001b[0m\u001b[1;33m(\u001b[0m\u001b[0mx\u001b[0m\u001b[1;33m)\u001b[0m\u001b[1;33m]\u001b[0m\u001b[1;33m=\u001b[0m\u001b[0mfeat\u001b[0m\u001b[1;33m\u001b[0m\u001b[0m\n\u001b[0;32m      7\u001b[0m \u001b[0mdata\u001b[0m\u001b[1;33m.\u001b[0m\u001b[0mhead\u001b[0m\u001b[1;33m(\u001b[0m\u001b[1;36m1\u001b[0m\u001b[1;33m)\u001b[0m\u001b[1;33m\u001b[0m\u001b[0m\n",
      "\u001b[1;31mIndexError\u001b[0m: too many indices for array"
     ]
    }
   ],
   "source": [
    "\n",
    "data=pd.DataFrame()\n",
    "data[\"Image\"]=names\n",
    "for x in range(2048):\n",
    "    feat= features[:,x]\n",
    "    data[\"feature \"+str(x)]=feat\n",
    "data.head(1)"
   ]
  },
  {
   "cell_type": "code",
   "execution_count": 277,
   "metadata": {},
   "outputs": [
    {
     "data": {
      "text/plain": [
       "(824, 2130)"
      ]
     },
     "execution_count": 277,
     "metadata": {},
     "output_type": "execute_result"
    }
   ],
   "source": [
    "data.to_csv(\"F://keypointsfeatures.csv\")\n",
    "#data2=pd.read_csv(\"F://gaborfeatures1.csv\")\n",
    "#data1=pd.concat([data,data2],axis=1,join_axes=[data.index])\n",
    "#data1=data1.drop([\"Unnamed: 0\"],axis=1)\n",
    "#data1.shape"
   ]
  },
  {
   "cell_type": "code",
   "execution_count": 289,
   "metadata": {},
   "outputs": [
    {
     "data": {
      "text/plain": [
       "(824, 2129)"
      ]
     },
     "execution_count": 289,
     "metadata": {},
     "output_type": "execute_result"
    }
   ],
   "source": [
    "data1.shape"
   ]
  },
  {
   "cell_type": "code",
   "execution_count": 288,
   "metadata": {},
   "outputs": [],
   "source": [
    "data1.iloc[[1],[-81]]\n",
    "data1=data1.drop([\"Unnamed: 0\"],axis=1)"
   ]
  },
  {
   "cell_type": "code",
   "execution_count": 290,
   "metadata": {},
   "outputs": [],
   "source": [
    "data1.to_csv(\"F://total_feat.csv\")"
   ]
  },
  {
   "cell_type": "code",
   "execution_count": null,
   "metadata": {},
   "outputs": [],
   "source": []
  },
  {
   "cell_type": "code",
   "execution_count": 92,
   "metadata": {},
   "outputs": [
    {
     "name": "stderr",
     "output_type": "stream",
     "text": [
      "C:\\Users\\pranav\\Anaconda3\\lib\\site-packages\\skimage\\util\\dtype.py:130: UserWarning: Possible precision loss when converting from float64 to uint8\n",
      "  .format(dtypeobj_in, dtypeobj_out))\n"
     ]
    }
   ],
   "source": [
    "import numpy as np\n",
    "from skimage import io, color, img_as_ubyte\n",
    "from skimage.feature import greycomatrix, greycoprops\n",
    "from sklearn.metrics.cluster import entropy\n",
    "\n",
    "rgbImg = io.imread('https://i.stack.imgur.com/1xDvJ.jpg')\n",
    "grayImg = img_as_ubyte(color.rgb2gray(rgbImg))\n",
    "#grayImg=np.array(im)\n",
    "distances = [1, 2, 3]\n",
    "angles = [0, np.pi/4, np.pi/2, 3*np.pi/4]\n",
    "properties = ['energy', 'homogeneity']\n",
    "\n",
    "glcm = greycomatrix(grayImg, \n",
    "                    distances=distances, \n",
    "                    angles=angles,\n",
    "                    symmetric=True,\n",
    "                    normed=True)\n",
    "\n",
    "feats = np.hstack([greycoprops(glcm, prop).ravel() for prop in properties])"
   ]
  },
  {
   "cell_type": "code",
   "execution_count": 87,
   "metadata": {},
   "outputs": [
    {
     "data": {
      "text/plain": [
       "array([[0, 0, 0, ..., 0, 0, 0],\n",
       "       [0, 0, 0, ..., 0, 0, 0],\n",
       "       [0, 0, 0, ..., 0, 0, 0],\n",
       "       ...,\n",
       "       [0, 0, 0, ..., 0, 0, 0],\n",
       "       [0, 0, 0, ..., 0, 0, 0],\n",
       "       [0, 0, 0, ..., 0, 0, 0]], dtype=uint8)"
      ]
     },
     "execution_count": 87,
     "metadata": {},
     "output_type": "execute_result"
    }
   ],
   "source": [
    "np.array(im)"
   ]
  },
  {
   "cell_type": "code",
   "execution_count": 67,
   "metadata": {},
   "outputs": [],
   "source": [
    "np.set_printoptions(precision=4)\n"
   ]
  },
  {
   "cell_type": "code",
   "execution_count": 94,
   "metadata": {},
   "outputs": [
    {
     "name": "stdout",
     "output_type": "stream",
     "text": [
      "24\n"
     ]
    }
   ],
   "source": [
    "print(len(feats))"
   ]
  },
  {
   "cell_type": "code",
   "execution_count": 93,
   "metadata": {},
   "outputs": [
    {
     "name": "stderr",
     "output_type": "stream",
     "text": [
      "C:\\Users\\pranav\\Anaconda3\\lib\\site-packages\\matplotlib\\axes\\_axes.py:6462: UserWarning: The 'normed' kwarg is deprecated, and has been replaced by the 'density' kwarg.\n",
      "  warnings.warn(\"The 'normed' kwarg is deprecated, and has been \"\n"
     ]
    },
    {
     "data": {
      "image/png": "[encoded data removed]",
      "text/plain": [
       "<Figure size 432x288 with 1 Axes>"
      ]
     },
     "metadata": {
      "needs_background": "light"
     },
     "output_type": "display_data"
    }
   ],
   "source": [
    "from skimage.feature import greycomatrix, greycoprops\n",
    "dis = (greycoprops(glcm, 'dissimilarity'))\n",
    "plt.hist(dis.ravel(), normed=True, bins=256, range=(0, 30),facecolor='0.5');plt.show()\n",
    "\n"
   ]
  },
  {
   "cell_type": "code",
   "execution_count": null,
   "metadata": {},
   "outputs": [],
   "source": []
  }
 ],
 "metadata": {
  "kernelspec": {
   "display_name": "Python 3",
   "language": "python",
   "name": "python3"
  },
  "language_info": {
   "codemirror_mode": {
    "name": "ipython",
    "version": 3
   },
   "file_extension": ".py",
   "mimetype": "text/x-python",
   "name": "python",
   "nbconvert_exporter": "python",
   "pygments_lexer": "ipython3",
   "version": "3.6.6"
  }
 },
 "nbformat": 4,
 "nbformat_minor": 2
}
